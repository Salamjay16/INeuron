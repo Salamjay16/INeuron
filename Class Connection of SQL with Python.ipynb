{
 "cells": [
  {
   "cell_type": "code",
   "execution_count": 1,
   "metadata": {},
   "outputs": [
    {
     "name": "stdout",
     "output_type": "stream",
     "text": [
      "Collecting cryptography\n",
      "  Obtaining dependency information for cryptography from https://files.pythonhosted.org/packages/d7/78/29d8332bebfe3c2d49a63fb23e1c9fc73a13507b5206b98479fda04c993b/cryptography-41.0.4-cp37-abi3-win_amd64.whl.metadata\n",
      "  Downloading cryptography-41.0.4-cp37-abi3-win_amd64.whl.metadata (5.3 kB)\n",
      "Collecting cffi>=1.12 (from cryptography)\n",
      "  Obtaining dependency information for cffi>=1.12 from https://files.pythonhosted.org/packages/be/3e/0b197d1bfbf386a90786b251dbf2634a15f2ea3d4e4070e99c7d1c7689cf/cffi-1.16.0-cp310-cp310-win_amd64.whl.metadata\n",
      "  Downloading cffi-1.16.0-cp310-cp310-win_amd64.whl.metadata (1.5 kB)\n",
      "Collecting pycparser (from cffi>=1.12->cryptography)\n",
      "  Downloading pycparser-2.21-py2.py3-none-any.whl (118 kB)\n",
      "     ------------------------------------ 118.7/118.7 kB 216.9 kB/s eta 0:00:00\n",
      "Downloading cryptography-41.0.4-cp37-abi3-win_amd64.whl (2.7 MB)\n",
      "   ---------------------------------------- 2.7/2.7 MB 171.5 kB/s eta 0:00:00\n",
      "Downloading cffi-1.16.0-cp310-cp310-win_amd64.whl (181 kB)\n",
      "   -------------------------------------- 181.6/181.6 kB 547.5 kB/s eta 0:00:00\n",
      "Installing collected packages: pycparser, cffi, cryptography\n",
      "Successfully installed cffi-1.16.0 cryptography-41.0.4 pycparser-2.21\n",
      "Note: you may need to restart the kernel to use updated packages.\n"
     ]
    }
   ],
   "source": [
    "# pip install cryptography"
   ]
  },
  {
   "cell_type": "code",
   "execution_count": 1,
   "metadata": {},
   "outputs": [
    {
     "name": "stdout",
     "output_type": "stream",
     "text": [
      "Collecting mysql-connector-python\n",
      "  Obtaining dependency information for mysql-connector-python from https://files.pythonhosted.org/packages/9d/1b/a7b17532d6c7972e9173d9cc6fad5f94b949bcaaafa744f4e68a255ebd37/mysql_connector_python-8.1.0-cp310-cp310-win_amd64.whl.metadata\n",
      "  Downloading mysql_connector_python-8.1.0-cp310-cp310-win_amd64.whl.metadata (2.1 kB)\n",
      "Collecting protobuf<=4.21.12,>=4.21.1 (from mysql-connector-python)\n",
      "  Downloading protobuf-4.21.12-cp310-abi3-win_amd64.whl (527 kB)\n",
      "     ------------------------------------ 527.0/527.0 kB 122.1 kB/s eta 0:00:00\n",
      "Downloading mysql_connector_python-8.1.0-cp310-cp310-win_amd64.whl (10.9 MB)\n",
      "   ---------------------------------------- 10.9/10.9 MB 143.3 kB/s eta 0:00:00\n",
      "Installing collected packages: protobuf, mysql-connector-python\n",
      "Successfully installed mysql-connector-python-8.1.0 protobuf-4.21.12\n",
      "Note: you may need to restart the kernel to use updated packages.\n"
     ]
    }
   ],
   "source": [
    "# pip install mysql-connector-python3 "
   ]
  },
  {
   "cell_type": "code",
   "execution_count": 1,
   "metadata": {},
   "outputs": [
    {
     "name": "stdout",
     "output_type": "stream",
     "text": [
      "Requirement already satisfied: mysql-connector-python in c:\\users\\user\\appdata\\local\\programs\\python\\python310\\lib\\site-packages (8.1.0)\n",
      "Requirement already satisfied: protobuf<=4.21.12,>=4.21.1 in c:\\users\\user\\appdata\\local\\programs\\python\\python310\\lib\\site-packages (from mysql-connector-python) (4.21.12)\n",
      "Note: you may need to restart the kernel to use updated packages.\n"
     ]
    }
   ],
   "source": [
    "pip install mysql-connector-python"
   ]
  },
  {
   "cell_type": "code",
   "execution_count": null,
   "metadata": {},
   "outputs": [],
   "source": []
  }
 ],
 "metadata": {
  "kernelspec": {
   "display_name": "Python 3",
   "language": "python",
   "name": "python3"
  },
  "language_info": {
   "codemirror_mode": {
    "name": "ipython",
    "version": 3
   },
   "file_extension": ".py",
   "mimetype": "text/x-python",
   "name": "python",
   "nbconvert_exporter": "python",
   "pygments_lexer": "ipython3",
   "version": "3.10.2"
  },
  "orig_nbformat": 4
 },
 "nbformat": 4,
 "nbformat_minor": 2
}
