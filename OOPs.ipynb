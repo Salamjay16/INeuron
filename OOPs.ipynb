{
 "cells": [
  {
   "attachments": {},
   "cell_type": "markdown",
   "metadata": {},
   "source": [
    "# // Thank you. Thank you. OK, so in today's class I will be talking about object oriented programming language Oops right? And let me tell you one thing that OOPS right. So when you will see a code and let's suppose if you are very new and even if you are experienced personal programming either programming right? But when we see this oops concept right so many of us like.\n",
    "# // E-mail. So maybe like you can leave off at least five to six days for that particular period. OK, just for like 6 days after that and before that on 2420 fifth everything. You will not get some about object oriented programming.\n",
    "# // Thank you. Thanks everyone. OK, so in today's class I will be talking about Object oriented programming language books right? And let me tell you one thing that oops right. So when you will see a code and let's suppose if you are very new and even if you are experienced personal programming, Python programming right. But when we see this oops concept right, so many of us like say that OK fine so maybe.\n",
    "# // Oops, I think it's very hard. It's it's too tough for me to do my implementation or like a skipping was way easier as compared to a hoops implementations that we are trying to do and then we used to get this kind of thoughts. Let me tell you one thing books is not tough at all right. It's just your state of mind and we've been trying to learn books in such a way that we will be able to complete or we will be able to write our own in object oriented programming.\n",
    "# // Languages. So it's a way of writing a program. So, so far, so for what we have been doing. So we have been writing one line of code, right. It's called a scripting. So Python supports scripting and as well as Python supports groups. So I'll talk about a language like Java. If I'll talk about language like Scala if I'll talk about language like a seesaw. So these are the programming languages where unless and until you are not.\n",
    "# // Going to create an object, you're not going to create a classes. You will not be able to write your code, even a single line of code. So your code is supposed to start from class and object itself. Those who are not aware about class and object forget about it. I'll give you a definition and I'll even show you so if I'll talk about any other programming languages right. So these are purely object oriented programming language you can say.\n",
    "# // But if I talk about Python, so Python allows you to write your code as a object oriented like a whip. So in a way of you know in a way of like Oops. Or you can try to write your complete Python code whatever you want without even using books. But there will be some pros and cons that you will be able to see and I'll talk about that. There will be some pros and cons that you will be able to.\n",
    "# // And we'll be talking about it and you will be able to find out that actual development happens, you know, oops. So whenever we have to develop some sort of a software, some sort of a library, some sort of packages. So we always prefer to write a code, you know, whoops way. Or I can say we always try to implement all of those voting things by using object oriented programming, so.\n",
    "# // Whatever we were writing is so far so forth, right? That is fine. It's not like these process. This approach is wrong. There's nothing called as right or wrong and there is a huge argument. You will be able to find out in our developer community right that OK, so why groups or why scripting? But yeah, so Python is giving you both the flexibility. So if you want you can write code in like a scripting way. If you want you can write your code.\n",
    "# // Object oriented way both are completely fine. So let's try to understand what is the meaning of object oriented programming and again inside that. So what is like a concept called as classes or objects or inheritance, Abstraction, Polymorphism, Method overloading, method overriding, inheritance, many things you will learn many things. So these are the concept.\n",
    "# // So whatever name that I've taken, whether it's abstraction, whether it's an inheritance, whether it's a polymorphism, whether it's overloading, whether it's overriding classes, objects, all of these things are concept. So conceptually these things are not going to change at all. Whether you are learning Python or you are trying to learn Java or you are trying to learn any other programming languages everywhere, it will be same definition wise, right? Yes.\n",
    "# // Food wise you will be able to find out some sort of a changes and let me tell you one thing that Python oops implementation is easier as compared to Java or C# oops implementation. So again over here you will be able to see an advantage if you are a Python programmer, if you are trying to write your code in Python programming way now So whenever we talk about this oops concept right So first of all.\n",
    "# // Will be there is something which comes in our mind. Police classes and objects, right. Classes and objects always comes in our mind. So whenever we try to like see some sort of implementation. So what is the meaning of class and what is the meaning of an object? In case of object oriented programming, this is just a way of writing code. I'm not saying that you are supposed to write no. If you're like if you're good with the shipping so you can go ahead with that.\n",
    "# // I'm going to stop you. But whenever you will try to develop a big things, a big system right over there, core maintenance will be tough over there model like making your whole model will be tough over there. So interdependency creation will be tough over there reusability will be tough and this is where programming concept comes into a picture right? So that with the help of good programming concept you will be able to.\n",
    "# // Even each and everything reusability like by using inheritance, by using like a method overriding, method overloading. So there are many concepts that polymorphism. There are many concepts that you will be able to find out which will help you out a lot when you will start developing a code for a bigger system and that is the reason. So whenever you will see right. So whenever you will see our industry get implementation or even you can.\n",
    "# // Open source library right? You can go and check or like how people have written code for Python. We are using so many methods we are using so many functions. So you will be able to see that how people have basically like they have like a written this Python code that you are using or Python library that you are using right? Going forward you have to use your own library at least couple of method you are going to release right? You're going to check in as.\n",
    "# // Inside of him so that people will be able to use it and they will take your name. Yes. So here like concept is something which is going to help you out And actually it's easy, it's look little bit difficult if we don't understand the structure, just follow structure nothing else. So if you don't understand structure then do stuff. But when you understand this structure in bits and pieces, right then you feel that OK fine.\n",
    "# // Something I can do it right? So like I'm not like doing something new or something exceptional. So it's very normal and regular that I'm trying to do and I'm trying to implement. So I think oops, programming console take two to three classes. I'm not going to wrap up this programming concept in just one classes because I will try to make your life easier, right? Going forward, you have to create a project, you have to work with me in a multiple project. So if I will not be able to.\n",
    "# // Eat you all of those things in as soon as possible way then it will create a problem for me like you will not be able to implementation and again and again you will come back to me. So just to make your life easier I will try to reach you. And again there is advice from my side whenever you will try to solve some of your interview related problem right give them a good solution not instructing give them according solution enough by using puts implementation then.\n",
    "# // What's your mother going to evaluate the solution? They will get impressed. It's not like we are doing something extra, something exceptional.\n",
    "# // The way of writing a code will change and that will create a huge amount of information in front of people who is going to do an evaluation of your assignments, right? And you will see that, you will see that how it gets an impression. Yeah, So that's the power of hoops concept that we are going to learn now in OOPS concept like I said. So first of all two things comes in our mind whenever we talk about object oriented programming, language oriented programming concept, right. First thing is.\n",
    "# // And second thing is object. This is the first tool that we are supposed to know. So what is our meaning of class? And what is our meaning of object? So let's suppose I'll just give you a very simple example, right?\n"
   ]
  },
  {
   "attachments": {},
   "cell_type": "markdown",
   "metadata": {},
   "source": [
    "# // Thank you. Thank you. OK, so in today's class I will be talking about object oriented programming language Oops right? And let me tell you one thing that OOPS right. So when you will see a code and let's suppose if you are very new and even if you are experienced personal programming either programming right? But when we see this oops concept right so many of us like.\n",
    "# // E-mail. So maybe like you can leave off at least five to six days for that particular period. OK, just for like 6 days after that and before that on 2420 fifth everything. You will not get some about object oriented programming.\n",
    "# // Thank you. Thanks everyone. OK, so in today's class I will be talking about Object oriented programming language books right? And let me tell you one thing that oops right. So when you will see a code and let's suppose if you are very new and even if you are experienced personal programming, Python programming right. But when we see this oops concept right, so many of us like say that OK fine so maybe.\n",
    "# // Oops, I think it's very hard. It's it's too tough for me to do my implementation or like a skipping was way easier as compared to a hoops implementations that we are trying to do and then we used to get this kind of thoughts. Let me tell you one thing books is not tough at all right. It's just your state of mind and we've been trying to learn books in such a way that we will be able to complete or we will be able to write our own in object oriented programming.\n",
    "# // Languages. So it's a way of writing a program. So, so far, so for what we have been doing. So we have been writing one line of code, right. It's called a scripting. So Python supports scripting and as well as Python supports groups. So I'll talk about a language like Java. If I'll talk about language like Scala if I'll talk about language like a seesaw. So these are the programming languages where unless and until you are not.\n",
    "# // Going to create an object, you're not going to create a classes. You will not be able to write your code, even a single line of code. So your code is supposed to start from class and object itself. Those who are not aware about class and object forget about it. I'll give you a definition and I'll even show you so if I'll talk about any other programming languages right. So these are purely object oriented programming language you can say.\n",
    "# // But if I talk about Python, so Python allows you to write your code as a object oriented like a whip. So in a way of you know in a way of like Oops. Or you can try to write your complete Python code whatever you want without even using books. But there will be some pros and cons that you will be able to see and I'll talk about that. There will be some pros and cons that you will be able to.\n",
    "# // And we'll be talking about it and you will be able to find out that actual development happens, you know, oops. So whenever we have to develop some sort of a software, some sort of a library, some sort of packages. So we always prefer to write a code, you know, whoops way. Or I can say we always try to implement all of those voting things by using object oriented programming, so.\n",
    "# // Whatever we were writing is so far so forth, right? That is fine. It's not like these process. This approach is wrong. There's nothing called as right or wrong and there is a huge argument. You will be able to find out in our developer community right that OK, so why groups or why scripting? But yeah, so Python is giving you both the flexibility. So if you want you can write code in like a scripting way. If you want you can write your code.\n",
    "# // Object oriented way both are completely fine. So let's try to understand what is the meaning of object oriented programming and again inside that. So what is like a concept called as classes or objects or inheritance, Abstraction, Polymorphism, Method overloading, method overriding, inheritance, many things you will learn many things. So these are the concept.\n",
    "# // So whatever name that I've taken, whether it's abstraction, whether it's an inheritance, whether it's a polymorphism, whether it's overloading, whether it's overriding classes, objects, all of these things are concept. So conceptually these things are not going to change at all. Whether you are learning Python or you are trying to learn Java or you are trying to learn any other programming languages everywhere, it will be same definition wise, right? Yes.\n",
    "# // Food wise you will be able to find out some sort of a changes and let me tell you one thing that Python oops implementation is easier as compared to Java or C# oops implementation. So again over here you will be able to see an advantage if you are a Python programmer, if you are trying to write your code in Python programming way now So whenever we talk about this oops concept right So first of all.\n",
    "# // Will be there is something which comes in our mind. Police classes and objects, right. Classes and objects always comes in our mind. So whenever we try to like see some sort of implementation. So what is the meaning of class and what is the meaning of an object? In case of object oriented programming, this is just a way of writing code. I'm not saying that you are supposed to write no. If you're like if you're good with the shipping so you can go ahead with that.\n",
    "# // I'm going to stop you. But whenever you will try to develop a big things, a big system right over there, core maintenance will be tough over there model like making your whole model will be tough over there. So interdependency creation will be tough over there reusability will be tough and this is where programming concept comes into a picture right? So that with the help of good programming concept you will be able to.\n",
    "# // Even each and everything reusability like by using inheritance, by using like a method overriding, method overloading. So there are many concepts that polymorphism. There are many concepts that you will be able to find out which will help you out a lot when you will start developing a code for a bigger system and that is the reason. So whenever you will see right. So whenever you will see our industry get implementation or even you can.\n",
    "# // Open source library right? You can go and check or like how people have written code for Python. We are using so many methods we are using so many functions. So you will be able to see that how people have basically like they have like a written this Python code that you are using or Python library that you are using right? Going forward you have to use your own library at least couple of method you are going to release right? You're going to check in as.\n",
    "# // Inside of him so that people will be able to use it and they will take your name. Yes. So here like concept is something which is going to help you out And actually it's easy, it's look little bit difficult if we don't understand the structure, just follow structure nothing else. So if you don't understand structure then do stuff. But when you understand this structure in bits and pieces, right then you feel that OK fine.\n",
    "# // Something I can do it right? So like I'm not like doing something new or something exceptional. So it's very normal and regular that I'm trying to do and I'm trying to implement. So I think oops, programming console take two to three classes. I'm not going to wrap up this programming concept in just one classes because I will try to make your life easier, right? Going forward, you have to create a project, you have to work with me in a multiple project. So if I will not be able to.\n",
    "# // Eat you all of those things in as soon as possible way then it will create a problem for me like you will not be able to implementation and again and again you will come back to me. So just to make your life easier I will try to reach you. And again there is advice from my side whenever you will try to solve some of your interview related problem right give them a good solution not instructing give them according solution enough by using puts implementation then.\n",
    "# // What's your mother going to evaluate the solution? They will get impressed. It's not like we are doing something extra, something exceptional.\n",
    "# // The way of writing a code will change and that will create a huge amount of information in front of people who is going to do an evaluation of your assignments, right? And you will see that, you will see that how it gets an impression. Yeah, So that's the power of hoops concept that we are going to learn now in OOPS concept like I said. So first of all two things comes in our mind whenever we talk about object oriented programming, language oriented programming concept, right. First thing is.\n",
    "# // And second thing is object. This is the first tool that we are supposed to know. So what is our meaning of class? And what is our meaning of object? So let's suppose I'll just give you a very simple example, right?\n"
   ]
  },
  {
   "cell_type": "code",
   "execution_count": null,
   "metadata": {},
   "outputs": [],
   "source": [
    " "
   ]
  },
  {
   "attachments": {},
   "cell_type": "markdown",
   "metadata": {},
   "source": [
    "Object oriented programming Language : it's a way of writing a program because so for what we have been doing as per writing one line of code, Is called a scripting! Python supports scripting and as well as Python supports groups\n",
    "\n",
    "So whenever we have to develop some sort of a software, some sort of a library, some sort of packages. So we always prefer to write a code, we always try to implement all of those voting things by using object oriented programming,\n",
    "\n",
    "Object oriented way both are completely fine. So let's try to understand what is the meaning of object oriented programming and again inside that. So what is like a concept called as classes or objects or inheritance, Abstraction, Polymorphism, Method overloading, method overriding, inheritance, many things you will learn many things. So these are the concept.\n",
    "\n",
    "So whatever name that I've taken, whether it's abstraction, whether it's an inheritance, whether it's a polymorphism, whether it's overloading, whether it's overriding classes, objects, all of these things are concept. So conceptually these things are not going to change at all. Whether you are learning Python or you are trying to learn Java or you are trying to learn any other programming languages everywhere, it will be same definition wise, right? Yes.\n",
    "\n",
    "Python oops implementation is easier as compared to Java or C# oops implementation\n",
    "\n",
    "So whenever we talk about this oops concept right So first of all\n",
    "\n",
    "Classes and objects always comes in our mind. So whenever we try to like see some sort of implementation. So what is the meaning of class and what is the meaning of an object?\n",
    "\n",
    "class is nothing but it's a classification of a real world object. A real world entity that is something called as class. So class is nothing but just classifying a object or separating a or you can say separating some sort of entities. Let's not talk about this world called as object because object dictations.\n",
    "\n",
    "Languages. So it's a way of writing a program. So, so far, so for what we have been doing. So we have been writing one line of code, right. It's called a scripting. So Python supports scripting and as well as Python supports groups. So I'll talk about a language like Java. If I'll talk about language like Scala if I'll talk about language like a seesaw. So these are the programming languages where unless and until you are not.\n",
    "\n",
    "Going to create an object, you're not going to create a classes. You will not be able to write your code, even a single line of code. So your code is supposed to start from class and object itself. Those who are not aware about class and object forget about it. I'll give you a definition and I'll even show you so if I'll talk about any other programming languages right. So these are purely object oriented programming language you can say.\n",
    "\n",
    "But if I talk about Python, so Python allows you to write your code as a object oriented like a whip. So in a way of you know in a way of like Oops. Or you can try to write your complete Python code whatever you want without even using books. But there will be some pros and cons that you will be able to see and I'll talk about that. There will be some pros and cons that you will be able to.\n",
    "\n",
    "And we'll be talking about it and you will be able to find out that actual development happens, you know, oops. So whenever we have to develop some sort of a software, some sort of a library, some sort of packages. So we always prefer to write a code, you know, whoops way. Or I can say we always try to implement all of those voting things by using object oriented programming, so.\n",
    "\n",
    "Whatever we were writing is so far so forth, right? That is fine. It's not like these process. This approach is wrong. There's nothing called as right or wrong and there is a huge argument. You will be able to find out in our developer community right \n",
    "that OK, so why groups or why scripting? But yeah, so Python is giving you both the flexibility. So if you want you can write code in like a scripting way. If you want you can write your code.\n",
    "\n",
    "Object oriented way both are completely fine. So let's try to understand what is the meaning of object oriented programming and again inside that. So what is like a concept called as classes or objects or inheritance, Abstraction, Polymorphism, Method \n",
    "overloading, method overriding, inheritance, many things you will learn many things. So these are the concept.\n",
    "\n",
    "So whatever name that I've taken, whether it's abstraction, whether it's an inheritance, whether it's a polymorphism, whether it's overloading, whether it's overriding classes, objects, all of these things are concept. So conceptually these things are not going to change at all. Whether you are learning Python or you are trying to learn Java or you are trying to learn any other programming languages everywhere, it will be same definition wise, right? Yes."
   ]
  },
  {
   "cell_type": "markdown",
   "metadata": {},
   "source": [
    "object is a variation/variable of classes while class is the classification of real world entity \n"
   ]
  },
  {
   "cell_type": "code",
   "execution_count": 29,
   "metadata": {},
   "outputs": [],
   "source": [
    "class car:  # car here, is nothing but a keyword as we can name it as anything we like\n",
    "   pass   # willl be executed but don't expect any particular entity or result"
   ]
  },
  {
   "cell_type": "code",
   "execution_count": 30,
   "metadata": {},
   "outputs": [],
   "source": [
    "# so let's try to create all variables in car and utilize it in the later stage;so as to use in future \n",
    "# let's try to create a particular car specification\n",
    "\n",
    "honda = car()"
   ]
  },
  {
   "cell_type": "code",
   "execution_count": 31,
   "metadata": {},
   "outputs": [
    {
     "data": {
      "text/plain": [
       "<__main__.car at 0x2232a814580>"
      ]
     },
     "execution_count": 31,
     "metadata": {},
     "output_type": "execute_result"
    }
   ],
   "source": [
    "honda # honda is a varible of car-class"
   ]
  },
  {
   "cell_type": "code",
   "execution_count": 32,
   "metadata": {},
   "outputs": [],
   "source": [
    "# let's suppose we want to define different variables of the Honda car\n",
    "honda.mileage = 33\n",
    "honda.year = 2024\n",
    "honda.make = \"Real-time AWD\"\n",
    "honda.model = \"CR-V\"\n",
    "\n",
    "# the above codes shows we are trying to create different variables for specific class \"car\"\n",
    "# honda.model means car class variable dot new variable"
   ]
  },
  {
   "cell_type": "code",
   "execution_count": 33,
   "metadata": {},
   "outputs": [
    {
     "data": {
      "text/plain": [
       "33"
      ]
     },
     "execution_count": 33,
     "metadata": {},
     "output_type": "execute_result"
    }
   ],
   "source": [
    "honda.mileage"
   ]
  },
  {
   "cell_type": "code",
   "execution_count": 34,
   "metadata": {},
   "outputs": [
    {
     "data": {
      "text/plain": [
       "2024"
      ]
     },
     "execution_count": 34,
     "metadata": {},
     "output_type": "execute_result"
    }
   ],
   "source": [
    "honda.year"
   ]
  },
  {
   "cell_type": "code",
   "execution_count": 35,
   "metadata": {},
   "outputs": [
    {
     "data": {
      "text/plain": [
       "10"
      ]
     },
     "execution_count": 35,
     "metadata": {},
     "output_type": "execute_result"
    }
   ],
   "source": [
    "int(input(\"what's the year of ur honda car?\"))"
   ]
  },
  {
   "cell_type": "code",
   "execution_count": 37,
   "metadata": {},
   "outputs": [],
   "source": [
    "BMW = car()   # this means BWM ia a class car"
   ]
  },
  {
   "cell_type": "code",
   "execution_count": 43,
   "metadata": {},
   "outputs": [],
   "source": [
    "BMW.mileage = 28\n",
    "BMW.year = 2024\n",
    "BMW.make = \"Gran Coupe\"\n",
    "BMW.model = 228\n",
    "BMW.engine_no = \"MPG(24 - 34)\""
   ]
  },
  {
   "cell_type": "code",
   "execution_count": 46,
   "metadata": {},
   "outputs": [
    {
     "name": "stdout",
     "output_type": "stream",
     "text": [
      "33 28\n"
     ]
    }
   ],
   "source": [
    "print(honda.mileage, BMW.mileage)"
   ]
  },
  {
   "cell_type": "code",
   "execution_count": 47,
   "metadata": {},
   "outputs": [],
   "source": [
    "# so now we try to create a car class that can be used for any type of car which can be re-used over a long period of time"
   ]
  },
  {
   "cell_type": "code",
   "execution_count": 48,
   "metadata": {},
   "outputs": [],
   "source": [
    "class car_N:\n",
    "    def __init__(self, mileage, year, make, model):  # __init__ is a constructor, inbuilt function used for initialization of data\n",
    "       self.mileage = mileage\n",
    "       self.year = year\n",
    "       self.make = make\n",
    "       self.model = model \n",
    "       \n",
    "# self jere isn't a keyword but a parameter, also __init__ function is used to pass a data into the class car_N"
   ]
  },
  {
   "cell_type": "code",
   "execution_count": 52,
   "metadata": {},
   "outputs": [],
   "source": [
    "nissan = car_N(39, 2020, \"Altima\", \"SV & SL\")\n",
    "Toyota = car_N(28, 2020, \"Camry\", \"LE & XLE\")\n",
    "Ford = car_N(24, 2020, \"Fusion\", \"S & Titanium\")\n",
    "Chevrolet = car_N(30, 2020, \"Equinox\", \"LS & LT\")\n",
    "Volkswagen = car_N(32, 2020, \"Tiguan\", \"SE & SEL\")"
   ]
  },
  {
   "cell_type": "code",
   "execution_count": 53,
   "metadata": {},
   "outputs": [
    {
     "data": {
      "text/plain": [
       "39"
      ]
     },
     "execution_count": 53,
     "metadata": {},
     "output_type": "execute_result"
    }
   ],
   "source": [
    "nissan.mileage"
   ]
  },
  {
   "cell_type": "code",
   "execution_count": 55,
   "metadata": {},
   "outputs": [
    {
     "data": {
      "text/plain": [
       "'S & Titanium'"
      ]
     },
     "execution_count": 55,
     "metadata": {},
     "output_type": "execute_result"
    }
   ],
   "source": [
    "Ford.model"
   ]
  },
  {
   "cell_type": "code",
   "execution_count": null,
   "metadata": {},
   "outputs": [],
   "source": []
  }
 ],
 "metadata": {
  "kernelspec": {
   "display_name": "Python 3",
   "language": "python",
   "name": "python3"
  },
  "language_info": {
   "codemirror_mode": {
    "name": "ipython",
    "version": 3
   },
   "file_extension": ".py",
   "mimetype": "text/x-python",
   "name": "python",
   "nbconvert_exporter": "python",
   "pygments_lexer": "ipython3",
   "version": "3.10.2"
  },
  "orig_nbformat": 4
 },
 "nbformat": 4,
 "nbformat_minor": 2
}
