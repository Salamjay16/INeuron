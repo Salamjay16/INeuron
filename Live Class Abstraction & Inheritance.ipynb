{
 "cells": [
  {// That we have to call something from the parent but.// In parent, let's suppose if I have done so// Equal to test one and self box test two is equal to test two like right over here and maybe I can try to.
// Not just one.
// IT and self-taught test is equal to test.
// I can try to write over here.
// In it and under score under score self I can try to write maybe just maybe test one, maybe test 2.
// Yeah.
// Right.
// Aspinal maybe? And then I can try to like uh.
// Then I can try to create.
// A test tool I can write.
// OK. So yeah.
// It's just uh two I can try to write over here and maybe same definition I can try to copy and paste.
// First one class, I'll just change the definition.
// So that was my biggest one. In my next class which I'm trying to create and I can write again like a dev over here I'm just going to score. Same thing. I can copy and paste, no need to write it down again. So.
// OK, now I will try to create another classes over here. Let's suppose I'm going to create class like test 1.
// Maybe I can try to overwrite his STR method and here so I can write write like a self and then I can try to do a return and then this is done from my test to class.
// Self-taught and B is equal to B and self dot C is equal to C and.
// Equal to a.
// No. So I'm going to create a class, let's suppose just over here very simple class I can try to create and I can write dev and under score, under score init under score, under score and then if I can try to create a comma B comma. See I can try to create over here self dot a is equal to.
// Let's try to achieve all of these things. So here I can start writing our code. Maybe for encapsulation. Sorry, I won't be able to discuss the database code.
// A concept called as encapsulation, yes. So let's let's try to do it.
// So now let's try to do one thing. So let's try to create some classes. Let's try to create some sort of a function, right? And let's see how I will be able to achieve.
// Still, you should know about it. You want. We are supposed to be about it, yeah.
// Practically have not shown you so like theoretically are you able to get some idea? OK so idea wise this is something called definition is something called an encapsulation. Again don't worry no one will ask you any question on this part like what is like division of encapsulation Interview but.
// Actually where we are trying to hide the implementation.
// Right. You don't know that complementation but you can make use of it. So you you just you take, you take capsules. That's true. But without knowing the implementation of the capsule, take it right. So if because doctor has prescribed you, so if I will tell you that, OK fine. So that is the class and that class is encapsulated but you can use it. You will be able to do this task for that task. So if you will try to create this kind of structure then it is called as a.
// Fine, so I'll take this capsule. So maybe it will like this particular disease on that, but you don't know the actual composition or actual implementation in programming language.
// Alright, don't know what is like, what is the composition of a different different chemicals are there, right. Unless open, even if you will open up, you will just see the powder or paste or something, right. So it's just like we have like what just behave like a container or closed envelope you can say right or container. So you know that.
// If you have to understand, so I think you all are aware about our capsule, right, Tablets, capsules inside a capsule. So you will be able to find out some liquid or maybe some powder sometime like that you will be able to find out, you know that if I'll take this caption. So for sure maybe I'll feel better for this particular disease or that particular disease. But do you even know that what is that inside this capsule?
// Different way right? So I'm trying to reutilize my parent class code which is already written, but this time I don't want to show you that. OK fine, So what was the actual variable name or like what was the actual function name? So maybe I can try to achieve those kind of things inside the OOPS concept with the help of encapsulation. So again in layman.
// But let's suppose there's another set of a requirement that we have. So we have a requirement that we have to call something from the parent. But in parent, let's suppose if I have done some implementation or method implementation, some sort of a function implementation. If I've done, I don't want to expose those implementations to you, but still I would like to utilize it, right? So again, we're talking about almost.
// Care about your parent class that what in all variables, what in all objects were in all functions are available inside your parent classes. You will not use it. You will not be able to use it because you will write it and you will try to call the variable name or you will try to call a function name which was available inside your parent classes. This is what we can do in case of inherit.
// Even in case of encapsulation, I will be able to reutilize it but in a little different way, right? So let's suppose I have a requirement. So if let's suppose if I have a requirement that, OK, I will create a classes, I will create its variable, but I will not try to show you the actual implementation when you do inheritance, right? So unless and until you are not.
// How are you?
// The laws of variable inside my parent class, I'm just trying to utilize it or there was a function inside my parent classes I was trying to.
// What is the meaning of it? Let's try to understand. So in case of inheritance what we have?
// Again, encapsulation is a general concept which you will be able to get in all the programming basic concept. So it's another way to extend our classes I would say or like it's another way of extending classes in such a way that it will consist of wrapping of the object.
me implementation of method, implementation reutilize it. Yeah that. That is that things are achievable with that of inheritance, right? So I will be able to save my time, number of lines of code, my code will be much more modernized. There's a concept called as encapsulation which comes after inheritance for sure. So encapsulation is.


   "cell_type": "markdown",
   "metadata": {},
   "source": [
    "# Abstraction"
   ]
  },
  {
   "cell_type": "markdown",
   "metadata": {},
   "source": [
    "So let's suppose if I have created a variable, so we know that that throughout the session of our OOP, we have been able to access some particular variable. But there are some concepts Which are available in other programming language called as private, public and protected? So private, public and protected will always allow you or will always stop you to access our variable or maybe access our methods right? Or access or it will prevent you to access some of the methods, variables or some of the functions in maybe classes and objects.These are the content which is available in other programming language. \n",
    "\n",
    "Now let's talk about our Python programming language, How things happens into a Python programming language?. So how we try to protect our abstraction in our Python programming language. Let's try to understand it. So like abstraction is simple like.\n",
    "\n",
    "Abstraction simply means that i'm not going to allow you to access my variables so that you won't be able to manipulate. if, you will not be able to call my variable, data and functions in objects & classes under OOP, in that case I can say that OK as I have applied some sort of abstraction although is a little bit different in Python as compared to a Java or any other programming languages.\n",
    "\n"
   ]
  },
  {
   "cell_type": "code",
   "execution_count": 1,
   "metadata": {},
   "outputs": [],
   "source": [
    "class test:\n",
    "    def __init__(self, a, b, c, d):\n",
    "        self.a = a\n",
    "        self.b = b\n",
    "        self.c = c\n",
    "        self.d = d\n",
    "    def test_customer(self, v):\n",
    "        return v - self.a\n",
    "    \n",
    "    def __str__(self):\n",
    "        return \"this is my test code for abstraction\"\n"
   ]
  },
  {
   "cell_type": "code",
   "execution_count": 2,
   "metadata": {},
   "outputs": [],
   "source": [
    "o = test(4,5,6,7) #\"salam-jay\", \"jackson\", \"abiodun\", \"jay\"\n",
    "# we tried to create an object \"o\" of class 'test' "
   ]
  },
  {
   "cell_type": "code",
   "execution_count": 3,
   "metadata": {},
   "outputs": [
    {
     "data": {
      "text/plain": [
       "3"
      ]
     },
     "execution_count": 3,
     "metadata": {},
     "output_type": "execute_result"
    }
   ],
   "source": [
    "o.test_customer(7)"
   ]
  },
  {
   "cell_type": "code",
   "execution_count": 4,
   "metadata": {},
   "outputs": [
    {
     "name": "stdout",
     "output_type": "stream",
     "text": [
      "this is my test code for abstraction\n"
     ]
    }
   ],
   "source": [
    "print(o)"
   ]
  },
  {
   "cell_type": "code",
   "execution_count": 5,
   "metadata": {},
   "outputs": [],
   "source": [
    "# Publi class: means that you'll be able to access within a class & function, outisde the class, packages & function\n",
    "\n",
    "# protected class: means you'll be able to call within a class/function, outside the class you'll be able to call but won't be able to call ouside a function&Packages\n",
    "\n",
    "# private class: means you'll only have access just within but not outside"
   ]
  },
  {
   "cell_type": "code",
   "execution_count": 6,
   "metadata": {},
   "outputs": [],
   "source": [
    "class exam:\n",
    "    def __init__(self, k, e, f, g):\n",
    "        self.__k = k\n",
    "        self.e = e\n",
    "        self.f = f\n",
    "        self.g = g\n",
    "    def exam_customer(self, v):\n",
    "        return v - self.__k\n",
    "    \n",
    "    def __str__(self):\n",
    "        return \"this is my test code for abstraction\"\n"
   ]
  },
  {
   "cell_type": "code",
   "execution_count": 7,
   "metadata": {},
   "outputs": [],
   "source": [
    "m = exam(9,3,1,8)"
   ]
  },
  {
   "cell_type": "code",
   "execution_count": 8,
   "metadata": {},
   "outputs": [
    {
     "ename": "AttributeError",
     "evalue": "'exam' object has no attribute '__k'",
     "output_type": "error",
     "traceback": [
      "\u001b[1;31m---------------------------------------------------------------------------\u001b[0m",
      "\u001b[1;31mAttributeError\u001b[0m                            Traceback (most recent call last)",
      "\u001b[1;32mc:\\Users\\USER\\Desktop\\code apps\\Live Class Abstraction & Inheritance.ipynb Cell 10\u001b[0m in \u001b[0;36m<cell line: 1>\u001b[1;34m()\u001b[0m\n\u001b[1;32m----> <a href='vscode-notebook-cell:/c%3A/Users/USER/Desktop/code%20apps/Live%20Class%20Abstraction%20%26%20Inheritance.ipynb#X11sZmlsZQ%3D%3D?line=0'>1</a>\u001b[0m m\u001b[39m.\u001b[39;49m__k\n",
      "\u001b[1;31mAttributeError\u001b[0m: 'exam' object has no attribute '__k'"
     ]
    }
   ],
   "source": [
    "m.__k\n",
    "# this is where OOP comes in, but in python, Abstraction is been symbolized\n",
    "\n",
    "# no underscore (no _) means public\n",
    "# single underscore (_) means protected\n",
    "# double underscore (__) means public"
   ]
  },
  {
   "cell_type": "code",
   "execution_count": null,
   "metadata": {},
   "outputs": [
    {
     "data": {
      "text/plain": [
       "9"
      ]
     },
     "execution_count": 19,
     "metadata": {},
     "output_type": "execute_result"
    }
   ],
   "source": [
    "# o.__k # is a private object which means that we can't access it directly outside it class\n",
    "\n",
    "# it doesn't mean you wn't be able to access it, you'll but in a differtent way \n",
    "\n",
    "m._exam__k"
   ]
  },
  {
   "cell_type": "markdown",
   "metadata": {},
   "source": [
    "# INHERITANCE\n",
    "\n",
    "helps you to imherit the property(in terms of all the variables, function, methods) of a parent class to a child class to foster reusabliblity of a written code"
   ]
  },
  {
   "cell_type": "code",
   "execution_count": 20,
   "metadata": {},
   "outputs": [
    {
     "data": {
      "text/plain": [
       "27"
      ]
     },
     "execution_count": 20,
     "metadata": {},
     "output_type": "execute_result"
    }
   ],
   "source": [
    "class practical(exam):   # simply means we're trying to inherit the properties in our parent class(exam) into the child class (practical)\n",
    "    def __init__(self, j, *args):  # means it can take any number of arguments\n",
    "        super(practical,self).__init__(*args) # super is a function available in python, super(practical)\n",
    "        self.j = j   # is the local variable created for our sub-class practical\n",
    "        \n",
    "\n",
    "t = practical(19, 41, 35, 27, 29)   # t is an object of child class\n",
    "t.f"
   ]
  },
  {
   "cell_type": "markdown",
   "metadata": {},
   "source": [
    " super is a function available in python, super(practical) is super of practical meaning parent of sub-class practical.  super(practical,self) logically means we are calling parent class Exam.   '.__init__'  will try to initiate all the variables in ur parent class exam "
   ]
  },
  {
   "cell_type": "code",
   "execution_count": 19,
   "metadata": {},
   "outputs": [
    {
     "data": {
      "text/plain": [
       "19"
      ]
     },
     "execution_count": 19,
     "metadata": {},
     "output_type": "execute_result"
    }
   ],
   "source": [
    "t.j"
   ]
  },
  {
   "cell_type": "code",
   "execution_count": 14,
   "metadata": {},
   "outputs": [
    {
     "data": {
      "text/plain": [
       "-12"
      ]
     },
     "execution_count": 14,
     "metadata": {},
     "output_type": "execute_result"
    }
   ],
   "source": [
    "t.exam_customer(29)"
   ]
  },
  {
   "cell_type": "markdown",
   "metadata": {},
   "source": [
    "# classwork\n",
    "\n",
    "create class test and test1\n",
    "\n",
    "inherit test and test1 into test2\n",
    "\n",
    "function a in test\n",
    "\n",
    "function a in test1\n",
    "\n",
    "test2 should inherit function-a from both test and test1 "
   ]
  },
  {
   "cell_type": "code",
   "execution_count": 37,
   "metadata": {},
   "outputs": [],
   "source": [
    "# test = food, test1 = drinks, test2 = eat\n",
    "\n",
    "class food:\n",
    "    def __init__(self, w, x, y, z):\n",
    "        self.__w = w\n",
    "        self.x = x\n",
    "        self.y = y\n",
    "        self.z = z\n",
    "    def exam_customer(self, a):\n",
    "        return a - self.__u\n",
    "    \n",
    "    def __str__(self):\n",
    "        return \"this is my test code for food\"\n",
    "        \n",
    "class drinks:\n",
    "    def __init__(self, q, r, s, t):\n",
    "        self.__q = q\n",
    "        self.r = r\n",
    "        self.s = s\n",
    "        self.t = t\n",
    "    def exam_customer(self, a):\n",
    "        return a - self.__q\n",
    "    \n",
    "    def __str__(self):\n",
    "        return \"this is my test code for drinks\"\n",
    "        "
   ]
  },
  {
   "cell_type": "code",
   "execution_count": 24,
   "metadata": {},
   "outputs": [
    {
     "data": {
      "text/plain": [
       "17"
      ]
     },
     "execution_count": 24,
     "metadata": {},
     "output_type": "execute_result"
    }
   ],
   "source": [
    "f = food(12, 15, 17, 18)\n",
    "f.y"
   ]
  },
  {
   "cell_type": "code",
   "execution_count": 27,
   "metadata": {},
   "outputs": [
    {
     "data": {
      "text/plain": [
       "45"
      ]
     },
     "execution_count": 27,
     "metadata": {},
     "output_type": "execute_result"
    }
   ],
   "source": [
    "d = drinks(33, 20, 30, 45)\n",
    "d.t"
   ]
  },
  {
   "cell_type": "code",
   "execution_count": 39,
   "metadata": {},
   "outputs": [
    {
     "data": {
      "text/plain": [
       "70"
      ]
     },
     "execution_count": 39,
     "metadata": {},
     "output_type": "execute_result"
    }
   ],
   "source": [
    "class eat(food,drinks):\n",
    "    def __init__(self, a, *args):\n",
    "        super(eat, self).__init__(*args)\n",
    "        self.a = a\n",
    "        \n",
    "e = eat(70, 50, 35, 47, 63)\n",
    "e.a"
   ]
  },
  {
   "cell_type": "markdown",
   "metadata": {},
   "source": [
    "# Class-work correction"
   ]
  },
  {
   "cell_type": "code",
   "execution_count": 41,
   "metadata": {},
   "outputs": [
    {
     "name": "stdout",
     "output_type": "stream",
     "text": [
      "function 'a' from class test = food\n",
      "function 'a' from class test = drinks\n"
     ]
    }
   ],
   "source": [
    "class food:\n",
    "    def a(Self):\n",
    "        print(\"function 'a' from class test = food\")\n",
    "class drinks:\n",
    "    def a(Self):\n",
    "        print(\"function 'a' from class test = drinks\")\n",
    "        \n",
    "class eat(food, drinks):\n",
    "    def a(self):\n",
    "        food.a(self)\n",
    "        drinks.a(self)\n",
    "        \n",
    "e = eat()\n",
    "e.a()\n",
    "        "
   ]
  },
  {
   "cell_type": "code",
   "execution_count": 95,
   "metadata": {},
   "outputs": [
    {
     "name": "stdout",
     "output_type": "stream",
     "text": [
      "Evynx Company was established by Afolabi and Engr. Lawal in 2023\n"
     ]
    }
   ],
   "source": [
    "class Evynx:\n",
    "    name = 'Evynx'\n",
    "    founder = 'Afolabi'\n",
    "    co_founder = 'Engr. Lawal'\n",
    "    \n",
    "    \n",
    "    def contact_details(self):\n",
    "        print('cContact him on', self.contact_details)\n",
    "        \n",
    "class Waste_management(Evynx):\n",
    "    def __init__(self):\n",
    "        self.year_of_establishment = 2023\n",
    "        \n",
    "    def est_details(self):\n",
    "        print('{0} Company was established by {1} and {2} in {3}'.format(self.name, self.founder, self.co_founder, self.year_of_establishment))\n",
    "        \n",
    "ds = Waste_management()\n",
    "ds.est_details()"
   ]
  },
  {
   "cell_type": "code",
   "execution_count": 111,
   "metadata": {},
   "outputs": [
    {
     "name": "stdout",
     "output_type": "stream",
     "text": [
      "multi_task\n",
      "Name: Evynx\n"
     ]
    }
   ],
   "source": [
    "class OS:\n",
    "    multi_task = True\n",
    "    os_name = 'Windows OS'\n",
    "    \n",
    "class windows(OS, Evynx):\n",
    "    def __init__(self):\n",
    "        if self.multi_task is True:\n",
    "            print('multi_task')\n",
    "        # else:\n",
    "        print('Name: {}'.format(self.name))\n",
    "            \n",
    "windows = windows()"
   ]
  },
  {
   "cell_type": "markdown",
   "metadata": {},
   "source": [
    "Multiple Inheritance is possible in python as shown above"
   ]
  },
  {
   "cell_type": "code",
   "execution_count": 112,
   "metadata": {},
   "outputs": [
    {
     "name": "stdout",
     "output_type": "stream",
     "text": [
      "multi_task\n",
      "Name: Evynx\n"
     ]
    }
   ],
   "source": [
    " class OS:\n",
    "    multi_task = True\n",
    "    os_name = 'Windows OS'\n",
    "    name = \"jay\"\n",
    "    \n",
    "class windows(Evynx, OS):        # meand it's trying to give priority to Evynx first even though there's a name variable there\n",
    "    def __init__(self):\n",
    "        if self.multi_task is True:\n",
    "            print('multi_task')\n",
    "        # else:\n",
    "        print('Name: {}'.format(self.name))\n",
    "        \n",
    "windows = windows()\n",
    "            "
   ]
  },
  {
   "cell_type": "markdown",
   "metadata": {},
   "source": [
    "That's yy it is showing \"Evynx\" here not \"Jay above"
   ]
  },
  {
   "cell_type": "markdown",
   "metadata": {},
   "source": [
    "# Multi-Label Inheritance"
   ]
  },
  {
   "cell_type": "code",
   "execution_count": 120,
   "metadata": {},
   "outputs": [
    {
     "name": "stdout",
     "output_type": "stream",
     "text": [
      "The Company Ineuron offers total 12 different types of courses. Most trending course is Data-Science\n"
     ]
    }
   ],
   "source": [
    "class Ineuron:\n",
    "    num_of_courses  = 12\n",
    "\n",
    "class Datascience(Ineuron):\n",
    "    course_type = \"Data-Science\"\n",
    "    \n",
    "class AI(Datascience):\n",
    "    def __init__ (self):\n",
    "        self.company = 'Ineuron'\n",
    "        print('The Company {0} offers total {1} different types of courses. Most trending course is {2}'.format(self.company, self.num_of_courses, self.course_type))\n",
    "        \n",
    "AI = AI()"
   ]
  },
  {
   "cell_type": "markdown",
   "metadata": {},
   "source": [
    "# Encapsulation\n",
    "\n",
    "is another way of extending classes in such a way that it'll consist of a rapid objects. let's suppose"
   ]
  },
  {
   "cell_type": "code",
   "execution_count": null,
   "metadata": {},
   "outputs": [],
   "source": []
  },
  {
   "cell_type": "markdown",
   "metadata": {},
   "source": []
  }
 ],
 "metadata": {
  "kernelspec": {
   "display_name": "Python 3",
   "language": "python",
   "name": "python3"
  },
  "language_info": {
   "codemirror_mode": {
    "name": "ipython",
    "version": 3
   },
   "file_extension": ".py",
   "mimetype": "text/x-python",
   "name": "python",
   "nbconvert_exporter": "python",
   "pygments_lexer": "ipython3",
   "version": "3.10.2"
  },
  "orig_nbformat": 4
 },
 "nbformat": 4,
 "nbformat_minor": 2
}
