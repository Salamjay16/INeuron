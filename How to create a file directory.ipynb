// Umm.
// No, we're not, you know.
// Machine.
// What are you seeing with annoying?
// 5K.
// In this life.
// This is not really.
// 15.
// Hello.
// He didn't.
// Only.
// Mamu.
// Smaller comma algorithm.
// Yes, Sir.
// So if you would like to discuss.
// Arjun. Yeah, Arjun.
// So fine.
// Yes, so those who have prepared our solution for a problem statement that I have shared with you.
// Are you going to discuss something more today? No. So I think people from your class is going to discuss more things. So yes, guys, those who have prepared a solution, right. So can you please, like raise your hand or can you please like try to ping me?
// Marjolein, PhD or any for any population only search file name have to merge or on the. I told you very clearly guys extension so I'm looking for a merger on extension. So why you are so confused?
// Yes.
// Like normal mirror ext right?
// I was wondering that you're talking about data analytics tools because in that assignments are already available. OK, I'll make it available, it's already ready with us, so.
// If you start, it does and it is fast track course. How about something assignment, final design That would work? I think it's it's there. OK you're talking about full stack right? So inside of full stack you are saying that you are not able to find out.
// Any question guys? Anyone?
// Fine.
// OK.
// So complete system scan you have to do.
// In Pakistan.
// Searching in some particular item no.
// We need a regular expression for searching. You can figure it out like. I'm leaving this up to you so how you're going to solve this problem. There are many ways by which you can do it.
// Yes.
// How much is it?
// It should search dot TXT file no. If I'm going to give dot PDF it should search.pdf as well. If I'm giving dot docs it should search dot docs as well and merge. So whatever file name I'm searching with some extension right? Folder will not be having extension but let's suppose if I'm searching for a file so it should try to search it.
// Why are you so it's not that useful. So Kiwi is pretty advanced. I can say with the help of Kiwi you will be able to get a flexibility. So keep it provides you like a a flexibility. Tinker Kitty provides you a flexibility so I think you should use that.
// Does merge puts all the data into a single file? Yes, yeah.
// So any pythonic framework? There are other framework as well which is available in Python itself right? So just feel free to utilize any of this framework. I don't have any issue.
// Because going forward, we will try to do each and everything just in one language, and that is going to be a.
// Libraries to create a UI so I don't have any kind of issue, but it should be a Python, pure Python. I'm not expecting any other language involvement into this one.
// Yes, you can try to use any pythonic.
// Before next.
// Not much, right? So even UI, so you don't have to be multiple functionalities, just these things you have to do.
// So it will try to find out all dot TXT, it will try to merge it and it will try to store it somewhere into a sign in some locations. So these are the only two functionality you have to implement in very basic and very simple.
// TXT right And then here merge.
// What if I have written right? So my name is UDHSUDH. So with respect to this CSU, DH, whatever files, folders that we have, it is supposed to list down. Let's suppose if I have given over here, so this is the number one. Let's suppose there will be another tab, let's suppose if I have given.
// This is a search button and let's.
// Let me delete this one. Yeah, my task is very simple. You have to create one UI where let's suppose if I'm going to search something, right? So let's suppose this is a button.
// See I'll I'll explain you again so those who are not able to understand right so I'll just clean you again. So here my task is what?
// That's the reason. So I've given you. Yeah, yeah, just just give a try, right? I'm not expecting a result over here.
// Yes, just give a try. Simple just give a try. Because if I ask you to write a Python code right so you all will be able to write it down. I know that right? So it's better to integrate these things with some UI platform.
// Explore.
// So will it be possible for everyone guys? Will you try to like?
// Two things. Two functionality I want you to implement, not more than that.
// Why you have in every time it is supposed to search, right? And let's suppose there must be another control to where if I'm going to put like a dot TXT. So if I have searched something and if dot TXT file is available so it must be able to merge. So maybe you can give one button called as merge so dot TXT file. It should be able to merge it just two like.
// You wanna complex UI and complex functionality because it will be a painful task for you as of now. So just create this simple UI. I'm just looking for one thing. Try to search all the files with respect to this name in your entire like file system. In your entire system. It is supposed to search in your E drive, C drive, redrive, whatever.
// And then we'll try to publish these things, follow other people. So this is our whole idea guys. So just try to create, just try to create one very simple UI I can't give you.
// For others, again, going forward, we can try to create our own dashboard in our own app. So whatever we are going to do, so we'll try to do everything in our own app itself.
// Right. So again, this is something which has been used for a development purely into Python. So you're not supposed to know about any development things, many development code or anything, right? And going if you will learn, if you will know these things then we can keep on creating an app and we can keep on like publishing those apps.
// Give it Python.
// This one. So with the help of this you will be able to create any kind of a Python application any any like applications you can get off your own which can do anything. Maybe for kids, maybe for like colleges, maybe for anyone to get an extra application. There are other things as well Kiwi.
// So tinker Python you will be able to get it so it's reaching a GY with Tinker in Python. So this is.
// And Python.
// Right.
// There are many framework which is available now if you will go to Google and if you will search tinker.
// Python based desktop app. You are not supposed to use any other language except Python. This is our first condition.
// So as in when we will, uh, progress inside the classes. So once we will be like having an idea about these things. We can try to do multiple things in a single place. So this is a challenge we have to create one desktop app.
// Where in the same interface, the similar kind of UI, you can try to do multiple works.
// It's a UI in pythons which is very much important and inside that. So I just want you to bind some of your Python function. That's it, some Python function, any Python Python function to do any kind of operation. Because if you know this right then I can give you multiple different different challenges, multiple different different task.
// And Python.
// Right.
// Armani framework which is available now if you will go to Google and if you will search tinker.
// And Python.
// Right.
{
 "cells": [
  {
   "cell_type": "code",
   "execution_count": 9,
   "id": "815e1d1d",
   "metadata": {},
   "outputs": [
    {
     "data": {
      "text/plain": [
       "9"
      ]
     },
     "execution_count": 9,
     "metadata": {},
     "output_type": "execute_result"
    }
   ],
   "source": [
    "def number_squared(x):\n",
    "    return x ** 2\n",
    "number_squared(3)"
   ]
  },
  {
   "attachments": {},
   "cell_type": "markdown",
   "id": "087e6aaf",
   "metadata": {},
   "source": [
    "LOGGING: Why logging is very important & why we have to know/go about logging, and as a standar coding practices, where & why we are suppose to apply logging"
   ]
  },
  {
   "attachments": {},
   "cell_type": "markdown",
   "id": "942c6cff",
   "metadata": {},
   "source": [
    " 1.) DEBUG: A bug is nothing but a detailed information of each and every processor that you are trying to log or store inside your system, that is something called DEBUG. "
   ]
  },
  {
   "attachments": {},
   "cell_type": "markdown",
   "id": "0dc7019c",
   "metadata": {},
   "source": [
    "2) INFO: Let's suppose if you're trying to like install a software, you must be able to see some information about that software. So again, we can try to lawless information and then we can show case this to the user.\n"
   ]
  },
  {
   "attachments": {},
   "cell_type": "markdown",
   "id": "3aee6766",
   "metadata": {},
   "source": [
    "3) WARNINGS: Suppose for some solution, if i have to give some more into a user or maybe some library will be duplicated or the library is not available. If i have to give a warning or maybe there is some update, right? So for about some library or some packages, so we can try to create a logging which will try to keep an like an interesting data about te warnings messages. "
   ]
  },
  {
   "attachments": {},
   "cell_type": "markdown",
   "id": "f7161986",
   "metadata": {},
   "source": [
    "4) ERROR (error): indicates error conditions that impair some operation but are less severe than critical situations.  \"error\" refers to less severe situations that still affect the program's operation"
   ]
  },
  {
   "attachments": {},
   "cell_type": "markdown",
   "id": "707e202b",
   "metadata": {},
   "source": [
    "5) CRITICAL: (crit): signifies critical conditions in the program that demand intervention to prevent system failure. It requires immediate action to prevent the program from failing"
   ]
  },
  {
   "cell_type": "code",
   "execution_count": 2,
   "id": "0f00f87a",
   "metadata": {},
   "outputs": [],
   "source": [
    "import logging as lgg"
   ]
  },
  {
   "cell_type": "code",
   "execution_count": 3,
   "id": "4aed887d",
   "metadata": {},
   "outputs": [],
   "source": [
    "import os"
   ]
  },
  {
   "cell_type": "code",
   "execution_count": 22,
   "id": "fd8588e0",
   "metadata": {},
   "outputs": [
    {
     "ename": "FileExistsError",
     "evalue": "[WinError 183] Cannot create a file when that file already exists: 'logging'",
     "output_type": "error",
     "traceback": [
      "\u001b[1;31m---------------------------------------------------------------------------\u001b[0m",
      "\u001b[1;31mFileExistsError\u001b[0m                           Traceback (most recent call last)",
      "\u001b[1;32mc:\\Users\\USER\\Desktop\\code apps\\How to create a file directory.ipynb Cell 10\u001b[0m in \u001b[0;36m<cell line: 1>\u001b[1;34m()\u001b[0m\n\u001b[1;32m----> <a href='vscode-notebook-cell:/c%3A/Users/USER/Desktop/code%20apps/How%20to%20create%20a%20file%20directory.ipynb#X12sZmlsZQ%3D%3D?line=0'>1</a>\u001b[0m os\u001b[39m.\u001b[39;49mmkdir(\u001b[39m\"\u001b[39;49m\u001b[39mlogging\u001b[39;49m\u001b[39m\"\u001b[39;49m)\n",
      "\u001b[1;31mFileExistsError\u001b[0m: [WinError 183] Cannot create a file when that file already exists: 'logging'"
     ]
    }
   ],
   "source": [
    "os.mkdir(\"logging\")"
   ]
  },
  {
   "cell_type": "code",
   "execution_count": 23,
   "id": "c9e63f12",
   "metadata": {},
   "outputs": [],
   "source": [
    "os.chdir(os.getcwd() + \"/\" + \"logging\")"
   ]
  },
  {
   "cell_type": "code",
   "execution_count": 24,
   "id": "3c328257",
   "metadata": {},
   "outputs": [
    {
     "data": {
      "text/plain": [
       "'c:\\\\Users\\\\USER\\\\Desktop\\\\code apps\\\\logging\\\\logging'"
      ]
     },
     "execution_count": 24,
     "metadata": {},
     "output_type": "execute_result"
    }
   ],
   "source": [
    "pwd()"
   ]
  },
  {
   "cell_type": "code",
   "execution_count": 25,
   "id": "4c95935e",
   "metadata": {},
   "outputs": [],
   "source": [
    "lgg.basicConfig(filename = 'test.log', level=lgg.INFO , format = '%(asctime)s %(message)s')"
   ]
  },
  {
   "cell_type": "code",
   "execution_count": 26,
   "id": "8c49e0c7",
   "metadata": {},
   "outputs": [],
   "source": [
    "lgg.info(\" I am going to start my first rogramme\")"
   ]
  },
  {
   "cell_type": "code",
   "execution_count": 27,
   "id": "ba9299f3",
   "metadata": {},
   "outputs": [],
   "source": [
    "lgg.warning(\" this is a first warning of my program, so verify it\")"
   ]
  },
  {
   "cell_type": "code",
   "execution_count": 28,
   "id": "0a76b54a",
   "metadata": {},
   "outputs": [],
   "source": [
    "lgg.error(\" this is my first error\")"
   ]
  },
  {
   "cell_type": "code",
   "execution_count": 29,
   "id": "34fa0732",
   "metadata": {},
   "outputs": [],
   "source": [
    "lgg.basicConfig(filename = 'test.log', level=lgg.ERROR , format = '%(asctime)s %(message)s')"
   ]
  },
  {
   "cell_type": "code",
   "execution_count": 30,
   "id": "20c590c4",
   "metadata": {},
   "outputs": [],
   "source": [
    "def test(x,y):\n",
    "    div = x/y\n",
    "    return div"
   ]
  },
  {
   "cell_type": "code",
   "execution_count": 31,
   "id": "575cf266",
   "metadata": {},
   "outputs": [
    {
     "ename": "ZeroDivisionError",
     "evalue": "division by zero",
     "output_type": "error",
     "traceback": [
      "\u001b[1;31m---------------------------------------------------------------------------\u001b[0m",
      "\u001b[1;31mZeroDivisionError\u001b[0m                         Traceback (most recent call last)",
      "\u001b[1;32mc:\\Users\\USER\\Desktop\\code apps\\How to create a file directory.ipynb Cell 19\u001b[0m in \u001b[0;36m<cell line: 1>\u001b[1;34m()\u001b[0m\n\u001b[1;32m----> <a href='vscode-notebook-cell:/c%3A/Users/USER/Desktop/code%20apps/How%20to%20create%20a%20file%20directory.ipynb#X24sZmlsZQ%3D%3D?line=0'>1</a>\u001b[0m test(\u001b[39m8\u001b[39;49m,\u001b[39m0\u001b[39;49m)\n",
      "\u001b[1;32mc:\\Users\\USER\\Desktop\\code apps\\How to create a file directory.ipynb Cell 19\u001b[0m in \u001b[0;36mtest\u001b[1;34m(x, y)\u001b[0m\n\u001b[0;32m      <a href='vscode-notebook-cell:/c%3A/Users/USER/Desktop/code%20apps/How%20to%20create%20a%20file%20directory.ipynb#X24sZmlsZQ%3D%3D?line=0'>1</a>\u001b[0m \u001b[39mdef\u001b[39;00m \u001b[39mtest\u001b[39m(x,y):\n\u001b[1;32m----> <a href='vscode-notebook-cell:/c%3A/Users/USER/Desktop/code%20apps/How%20to%20create%20a%20file%20directory.ipynb#X24sZmlsZQ%3D%3D?line=1'>2</a>\u001b[0m     div \u001b[39m=\u001b[39m x\u001b[39m/\u001b[39;49my\n\u001b[0;32m      <a href='vscode-notebook-cell:/c%3A/Users/USER/Desktop/code%20apps/How%20to%20create%20a%20file%20directory.ipynb#X24sZmlsZQ%3D%3D?line=2'>3</a>\u001b[0m     \u001b[39mreturn\u001b[39;00m div\n",
      "\u001b[1;31mZeroDivisionError\u001b[0m: division by zero"
     ]
    }
   ],
   "source": [
    "test(8,0)"
   ]
  },
  {
   "attachments": {},
   "cell_type": "markdown",
   "id": "701dfb07",
   "metadata": {},
   "source": [
    "Exceptional Handling"
   ]
  },
  {
   "cell_type": "code",
   "execution_count": 32,
   "id": "c74225f9",
   "metadata": {},
   "outputs": [],
   "source": [
    "def test(x,y):\n",
    "    \n",
    "    try:\n",
    "        div = x/y\n",
    "        return div\n",
    "    except Exception as e:\n",
    "        print(\" you can check your log for more info when your code fails!\")\n",
    "        lgg.error(\" error has occurred\")\n",
    "        lgg.exception(str(e))"
   ]
  },
  {
   "cell_type": "code",
   "execution_count": 33,
   "id": "c806b064",
   "metadata": {},
   "outputs": [
    {
     "name": "stdout",
     "output_type": "stream",
     "text": [
      " you can check your log for more info when your code fails!\n"
     ]
    }
   ],
   "source": [
    "test(4,0)"
   ]
  },
  {
   "attachments": {},
   "cell_type": "markdown",
   "id": "ec1d86fe",
   "metadata": {},
   "source": [
    "Checking the values to be multiplied first; checking for compactibility!"
   ]
  },
  {
   "cell_type": "code",
   "execution_count": 34,
   "id": "5a9fd9f2",
   "metadata": {},
   "outputs": [],
   "source": [
    "def test(x,y):\n",
    "    \n",
    "    try:\n",
    "        lgg.info(str(x) + (str(y)))\n",
    "        div = x/y\n",
    "        return div\n",
    "    except Exception as e:\n",
    "        print(\" you can check your log for more info when your code fails!\")\n",
    "        lgg.error(\" error has occurred\")\n",
    "        lgg.exception(str(e))"
   ]
  },
  {
   "cell_type": "code",
   "execution_count": 35,
   "id": "2d22514e",
   "metadata": {},
   "outputs": [
    {
     "name": "stdout",
     "output_type": "stream",
     "text": [
      " you can check your log for more info when your code fails!\n"
     ]
    }
   ],
   "source": [
    "test(8,0)"
   ]
  },
  {
   "cell_type": "code",
   "execution_count": 5,
   "id": "0ff3af15",
   "metadata": {},
   "outputs": [],
   "source": [
    "import logging as lg\n",
    "lg.basicConfig(filename = r'C:\\Users\\USER\\Desktop\\code apps\\logging\\test1.log', level=lg.INFO) # , format = '%(asctime)s %(message)s')\n",
    "def test(a,b):\n",
    "    lg.info(\" this is the start of the function\")\n",
    "    return a + b\n"
   ]
  },
  {
   "cell_type": "code",
   "execution_count": 6,
   "id": "b6ef303e",
   "metadata": {},
   "outputs": [
    {
     "data": {
      "text/plain": [
       "12"
      ]
     },
     "execution_count": 6,
     "metadata": {},
     "output_type": "execute_result"
    }
   ],
   "source": [
    "test(3,9)"
   ]
  },
  {
   "cell_type": "code",
   "execution_count": 7,
   "id": "32abcb58",
   "metadata": {},
   "outputs": [
    {
     "data": {
      "text/plain": [
       "16"
      ]
     },
     "execution_count": 7,
     "metadata": {},
     "output_type": "execute_result"
    }
   ],
   "source": [
    "test(10,6)"
   ]
  },
  {
   "cell_type": "code",
   "execution_count": 8,
   "id": "6be4f7b5",
   "metadata": {},
   "outputs": [
    {
     "data": {
      "text/plain": [
       "9"
      ]
     },
     "execution_count": 8,
     "metadata": {},
     "output_type": "execute_result"
    }
   ],
   "source": [
    "test(5,4)"
   ]
  },
  {
   "cell_type": "code",
   "execution_count": 9,
   "id": "8c6410c0",
   "metadata": {},
   "outputs": [
    {
     "data": {
      "text/plain": [
       "8"
      ]
     },
     "execution_count": 9,
     "metadata": {},
     "output_type": "execute_result"
    }
   ],
   "source": [
    "test(1,7)"
   ]
  },
  {
   "cell_type": "code",
   "execution_count": 10,
   "id": "75c7fcd4",
   "metadata": {},
   "outputs": [],
   "source": [
    "lg.shutdown() #ends/stops the logging function that shows in the temp file"
   ]
  },
  {
   "cell_type": "code",
   "execution_count": 11,
   "id": "1f54fbdb",
   "metadata": {},
   "outputs": [
    {
     "data": {
      "text/plain": [
       "118"
      ]
     },
     "execution_count": 11,
     "metadata": {},
     "output_type": "execute_result"
    }
   ],
   "source": [
    "test(95, 23)"
   ]
  },
  {
   "cell_type": "code",
   "execution_count": 1,
   "id": "5f2fbd6d",
   "metadata": {},
   "outputs": [],
   "source": [
    "import logging as lg \n",
    "lg.basicConfig(filename = r'C:\\Users\\USER\\Desktop\\code apps\\logging\\test2.log', level=lg.INFO)\n",
    "lg.debug(\" this is for debugging\")\n",
    "lg.info(\" this is my info log\")\n",
    "lg.warning(\" this is my warning log\")\n",
    "lg.error(\" this is my error log\")\n",
    "lg.exception(\" this is my exception log\")\n",
    "lg.critical(\" this is my critical log\")\n"
   ]
  },
  {
   "cell_type": "code",
   "execution_count": 3,
   "id": "04553366",
   "metadata": {},
   "outputs": [],
   "source": [
    "import logging as lgg\n",
    "lgg.basicConfig(filename = r'C:\\Users\\USER\\Desktop\\code apps\\logging\\class_work.log', level=lgg.INFO)\n"
   ]
  },
  {
   "cell_type": "code",
   "execution_count": 12,
   "id": "a7cc717c",
   "metadata": {},
   "outputs": [
    {
     "name": "stdout",
     "output_type": "stream",
     "text": [
      "INFO:root: this is the start of the function\n",
      "INFO:root: this is the start of the function\n",
      "INFO:root: user imput: {m} and {n}\n",
      "INFO:root: this is the start of the function\n",
      "INFO:root: user imput: 37 and 38\n",
      "INFO:root: this is the start of the function\n",
      "WARNING:root: the code above is only for addition! Don't try any other form of arithmetic\n",
      "INFO:root: user imput: 36789 and 98765\n",
      "INFO:root: this is the start of the function\n",
      "WARNING:root: the code above is only for addition! Don't try any other form of arithmetic\n",
      "INFO:root: user imput: 64789 and 876\n",
      "INFO:root: this is the start of the function\n",
      "WARNING:root: the code above is only for addition! Don't try any other form of arithmetic\n",
      "INFO:root: user imput: 34568 and 9889\n",
      "INFO:root: this is the start of the function\n",
      "WARNING:root: the code above is only for addition! Don't try any other form of arithmetic\n",
      "INFO:root: user imput: 987654 and 345678\n",
      "\n"
     ]
    }
   ],
   "source": [
    "m = int(input(\" what's the value of your m?\"))\n",
    "n = int(input(\" what's the value of your n?\"))\n",
    "\n",
    "def sum_2_numbers(m,n):\n",
    "    lgg.info(\" this is the start of the function\")\n",
    "    lgg.warning(\" the code above is only for addition! Don't try any other form of arithmetic\")\n",
    "    lgg.info(f\" user imput: {m} and {n}\")\n",
    "    return m + n\n",
    "\n",
    "sum_2_numbers(m,n)\n",
    "\n",
    "f = open(r'C:\\Users\\USER\\Desktop\\code apps\\logging\\class_work.log', \"r\")\n",
    "print(f.read())"
   ]
  },
  {
   "attachments": {},
   "cell_type": "markdown",
   "id": "5fbe621c",
   "metadata": {},
   "source": [
    "CORRECTION TO CLASSWORK"
   ]
  },
  {
   "cell_type": "code",
   "execution_count": 1,
   "id": "99ad4404",
   "metadata": {},
   "outputs": [],
   "source": [
    "# import logging as lgg "
   ]
  },
  {
   "cell_type": "code",
   "execution_count": 2,
   "id": "73402a05",
   "metadata": {},
   "outputs": [],
   "source": [
    "# lgg.basicConfig(filename=r'C:\\Users\\USER\\Desktop\\code apps\\logging\\test3.log',level = lgg.DEBUG, format = '%(asctime)s %(levelname)s %(message)s') # "
   ]
  },
  {
   "cell_type": "code",
   "execution_count": 3,
   "id": "57bbfafd",
   "metadata": {},
   "outputs": [],
   "source": [
    "# console_log = lgg.StreamHandler()\n",
    "# console_log.setLevel(lgg.INFO)\n",
    "# to print all the log in our console"
   ]
  },
  {
   "cell_type": "code",
   "execution_count": 4,
   "id": "f4d090c7",
   "metadata": {},
   "outputs": [],
   "source": [
    "# format = '%(asctime)s %(levelname)s %(message)s'"
   ]
  },
  {
   "cell_type": "code",
   "execution_count": 5,
   "id": "3e8ce6d1",
   "metadata": {},
   "outputs": [],
   "source": [
    "# console_log.setFormatter(format)"
   ]
  },
  {
   "cell_type": "code",
   "execution_count": 6,
   "id": "9a586c4c",
   "metadata": {},
   "outputs": [],
   "source": [
    "# lgg.getLogger('').addHandler(console_log)"
   ]
  },
  {
   "cell_type": "code",
   "execution_count": 7,
   "id": "6b631fa4",
   "metadata": {},
   "outputs": [
    {
     "name": "stderr",
     "output_type": "stream",
     "text": [
      "%(asctime)s %(levelname)s %(message)s\n"
     ]
    }
   ],
   "source": [
    "# lgg.info(\" this is my first code for log\")"
   ]
  },
  {
   "cell_type": "code",
   "execution_count": 8,
   "id": "91b879f2",
   "metadata": {},
   "outputs": [],
   "source": [
    "# logger1 = lgg.getLogger('logger1.area1')\n",
    "# logger2 = lgg.getLogger('logger2.area2')"
   ]
  },
  {
   "cell_type": "code",
   "execution_count": 9,
   "id": "dd63b5a4",
   "metadata": {},
   "outputs": [
    {
     "name": "stderr",
     "output_type": "stream",
     "text": [
      "%(asctime)s %(levelname)s %(message)s\n",
      "%(asctime)s %(levelname)s %(message)s\n"
     ]
    }
   ],
   "source": [
    "# logger1.info(\" this is info for logger one\")\n",
    "# logger2.debug(\" this is a debug for logger two\")\n",
    "# logger2.info(\" this is info for logger one\")"
   ]
  },
  {
   "attachments": {},
   "cell_type": "markdown",
   "id": "107cc9d6",
   "metadata": {},
   "source": [
    "Now let's put everything above into a box "
   ]
  },
  {
   "cell_type": "code",
   "execution_count": 2,
   "id": "7a24fa28",
   "metadata": {},
   "outputs": [
    {
     "name": "stderr",
     "output_type": "stream",
     "text": [
      "root - 2023-06-30 15:23:43,438 - INFO -  main log\n",
      "user_1 - 2023-06-30 15:23:43,438 - INFO -  this is from user_1 info\n",
      "user_2 - 2023-06-30 15:23:43,438 - DEBUG -  this is from user_2 debug\n"
     ]
    }
   ],
   "source": [
    "import logging as lgg  # root\n",
    "import os\n",
    "\n",
    "lgg.basicConfig(filename= r'c:\\Users\\USER\\Desktop\\code apps\\logging\\test3.log',level = lgg.DEBUG, format = '%(name)s - %(asctime)s - %(levelname)s - %(message)s', filemode='r+') # \n",
    "console_log = lgg.StreamHandler()  # streamHandler is used to showcase information about  \n",
    "console_log.setLevel(lgg.INFO)\n",
    "console_log.setLevel(lgg.DEBUG)\n",
    "#os.chmod(os.getcwd(), 777)\n",
    "format = lgg.Formatter('%(name)s - %(asctime)s - %(levelname)s - %(message)s')\n",
    "console_log.setFormatter(format)\n",
    "\n",
    "lgg.getLogger('').addHandler(console_log)\n",
    "lgg.info(\" main log\")\n",
    "\n",
    "logger1 = lgg.getLogger('user_1')\n",
    "logger2 = lgg.getLogger('user_2')\n",
    "logger3 = lgg.getLogger('user_3')\n",
    "logger4 = lgg.getLogger('user_4')\n",
    "logger1.info(\" this is from user_1 info\")\n",
    "logger2.debug(\" this is from user_2 debug\")"
   ]
  },
  {
   "attachments": {},
   "cell_type": "markdown",
   "id": "d7abd58d",
   "metadata": {},
   "source": [
    "USERBYTE: A place where we can get lots of user information user logger"
   ]
  },
  {
   "cell_type": "code",
   "execution_count": 3,
   "id": "12903275",
   "metadata": {},
   "outputs": [
    {
     "name": "stderr",
     "output_type": "stream",
     "text": [
      "user_3 - 2023-06-30 15:23:48,485 - INFO -  this is from user_3 info\n",
      "user_4 - 2023-06-30 15:23:48,485 - DEBUG -  this is a debug user_4\n"
     ]
    }
   ],
   "source": [
    "logger3.info(\" this is from user_3 info\")\n",
    "logger4.debug(\" this is a debug user_4\")"
   ]
  },
  {
   "cell_type": "code",
   "execution_count": 3,
   "id": "0c87e1d4",
   "metadata": {},
   "outputs": [
    {
     "data": {
      "text/plain": [
       "'c:\\\\Users\\\\USER\\\\Desktop\\\\code apps'"
      ]
     },
     "execution_count": 3,
     "metadata": {},
     "output_type": "execute_result"
    }
   ],
   "source": [
    "os.getcwd()"
   ]
  },
  {
   "cell_type": "code",
   "execution_count": null,
   "id": "aad4d350",
   "metadata": {},
   "outputs": [],
   "source": []
  },
  {
   "attachments": {},
   "cell_type": "markdown",
   "id": "3891ef19",
   "metadata": {},
   "source": [
    "That we will try to see same thing in our by Sam and I can say like a VS Code as well. So this is something that we are going to do. But yeah, how do are you bugging in your Jupiter notebook? This is what we will learn in today's class. It's very easy\n",
    "\n",
    "It does nothing actually. In 15 minutes you will be able to understand that how I will be what is the meaning of debugging. First of all you all will be able to understand and again debugging is a very helpful concept when you are trying to write a code. It's really very very helpful concept and again as a beginner if you're trying to write a code so\n",
    "\n",
    "I will tell you all the time that OK fine so trying to apply a debugger and try to check that what is the issue that you are facing and why you are facing all sort of issue. So debugging is something which will be really very very helpful for any one of you even as a fresher right. Those who have just started coding from yesterday maybe yes\n",
    "\n",
    "So is debugging as difficult as logging in or logging is a procedure? Debugging is something that helps you out to correct your code.\n",
    "\n",
    "Right, so let's suppose if I have written some code and if I'm receiving some sort of an error, right? If I'm receiving some sort of an error. So at that point of the time, what is the exact issue with the code step by step if I have to check so?\n",
    "\n",
    "Debugging is something which will help you out to correct that code and as a beginner all of you have received, all of you are facing this kind of issue right? So going forward whenever you will write a code and let's suppose your code is not working, you are getting an issue right? So you are supposed to sell somewhere. You are supposed to search even over a Google. What you can do is you can try to apply a debugger over there and then try to check.\n",
    "\n",
    "Then what is the issue with your system? This is where debugger will be helpful. That's really I told you even as a fresher those who have just started according since yesterday, let's suppose right, Even they can try to use debugger. It's very easy, just one line. You have to call only one line\n",
    "\n",
    "That's it! So like in Python mean pie charm you will be able to get clicks. So with the help of clicks you will be able to do it right. But here so you have to write one line of code trace. So set price you have to do and then you will be able to do it. Please share the code. I think I have already paid you a code guys. This code is already available inside your like Chat box, please use it.\n",
    "\n",
    "OK. So fine guys, let's take a break of 15 minute. It's 532 now and we will try to resume again at 547 then after that. So we are going to start with our. New things scholars debugging which is a very easy to learn and very easy to understand\n",
    "\n",
    " "
   ]
  },
  {
   "attachments": {},
   "cell_type": "markdown",
   "id": "cde7899e",
   "metadata": {},
   "source": [
    "DEBUGGING OVERVIEW:  Let's suppose you are complete beginner, you don't know about coding at all, right? So you can try to apply this particular steps and then with the help of it you will be able to understand execution of a code in a best possible way"
   ]
  },
  {
   "cell_type": "code",
   "execution_count": 49,
   "id": "24ec58fa",
   "metadata": {},
   "outputs": [],
   "source": [
    "def testdebug():\n",
    "    l = []\n",
    "    for i in range(10):\n",
    "        l.append(i)\n",
    "        print(\"we have appended your data in the list\")\n",
    "    return l\n",
    "         "
   ]
  },
  {
   "cell_type": "code",
   "execution_count": 50,
   "id": "6d573b14",
   "metadata": {},
   "outputs": [
    {
     "name": "stdout",
     "output_type": "stream",
     "text": [
      "we have appended your data in the list\n",
      "we have appended your data in the list\n",
      "we have appended your data in the list\n",
      "we have appended your data in the list\n",
      "we have appended your data in the list\n",
      "we have appended your data in the list\n",
      "we have appended your data in the list\n",
      "we have appended your data in the list\n",
      "we have appended your data in the list\n",
      "we have appended your data in the list\n"
     ]
    },
    {
     "data": {
      "text/plain": [
       "[0, 1, 2, 3, 4, 5, 6, 7, 8, 9]"
      ]
     },
     "execution_count": 50,
     "metadata": {},
     "output_type": "execute_result"
    }
   ],
   "source": [
    "testdebug()"
   ]
  },
  {
   "cell_type": "code",
   "execution_count": 53,
   "id": "895dbe64",
   "metadata": {},
   "outputs": [
    {
     "name": "stdout",
     "output_type": "stream",
     "text": [
      "110.00000000000001\n"
     ]
    }
   ],
   "source": [
    "savings = 100\n",
    "growth_multiplier = 1.1\n",
    "desc = \"compound interest\"\n",
    "\n",
    "year1 = savings * growth_multiplier\n",
    "print(year1)"
   ]
  },
  {
   "attachments": {},
   "cell_type": "markdown",
   "id": "c20723fd",
   "metadata": {},
   "source": [
    "So there are a repository which is given to you. So there are majorly 2 repository you are going to use as a Python programmer. \n",
    "One is called as a _pip_ and another one is called as a *conda* "
   ]
  },
  {
   "cell_type": "code",
   "execution_count": 4,
   "id": "cdf44d41",
   "metadata": {},
   "outputs": [
    {
     "name": "stdout",
     "output_type": "stream",
     "text": [
      "Requirement already satisfied: ipdb in c:\\users\\user\\anaconda3\\lib\\site-packages (0.13.13)\n",
      "Requirement already satisfied: decorator in c:\\users\\user\\anaconda3\\lib\\site-packages (from ipdb) (5.1.0)\n",
      "Requirement already satisfied: ipython>=7.31.1 in c:\\users\\user\\anaconda3\\lib\\site-packages (from ipdb) (8.14.0)\n",
      "Requirement already satisfied: tomli in c:\\users\\user\\anaconda3\\lib\\site-packages (from ipdb) (2.0.1)\n",
      "Requirement already satisfied: stack-data in c:\\users\\user\\anaconda3\\lib\\site-packages (from ipython>=7.31.1->ipdb) (0.6.2)\n",
      "Requirement already satisfied: prompt-toolkit!=3.0.37,<3.1.0,>=3.0.30 in c:\\users\\user\\anaconda3\\lib\\site-packages (from ipython>=7.31.1->ipdb) (3.0.38)\n",
      "Requirement already satisfied: backcall in c:\\users\\user\\anaconda3\\lib\\site-packages (from ipython>=7.31.1->ipdb) (0.2.0)\n",
      "Requirement already satisfied: pickleshare in c:\\users\\user\\anaconda3\\lib\\site-packages (from ipython>=7.31.1->ipdb) (0.7.5)\n",
      "Requirement already satisfied: jedi>=0.16 in c:\\users\\user\\anaconda3\\lib\\site-packages (from ipython>=7.31.1->ipdb) (0.18.0)\n",
      "Requirement already satisfied: pygments>=2.4.0 in c:\\users\\user\\anaconda3\\lib\\site-packages (from ipython>=7.31.1->ipdb) (2.10.0)\n",
      "Requirement already satisfied: traitlets>=5 in c:\\users\\user\\anaconda3\\lib\\site-packages (from ipython>=7.31.1->ipdb) (5.1.0)\n",
      "Requirement already satisfied: typing-extensions in c:\\users\\user\\anaconda3\\lib\\site-packages (from ipython>=7.31.1->ipdb) (3.10.0.2)\n",
      "Requirement already satisfied: matplotlib-inline in c:\\users\\user\\anaconda3\\lib\\site-packages (from ipython>=7.31.1->ipdb) (0.1.2)\n",
      "Requirement already satisfied: colorama in c:\\users\\user\\anaconda3\\lib\\site-packages (from ipython>=7.31.1->ipdb) (0.4.4)\n",
      "Requirement already satisfied: parso<0.9.0,>=0.8.0 in c:\\users\\user\\anaconda3\\lib\\site-packages (from jedi>=0.16->ipython>=7.31.1->ipdb) (0.8.2)\n",
      "Requirement already satisfied: wcwidth in c:\\users\\user\\anaconda3\\lib\\site-packages (from prompt-toolkit!=3.0.37,<3.1.0,>=3.0.30->ipython>=7.31.1->ipdb) (0.2.5)\n",
      "Requirement already satisfied: asttokens>=2.1.0 in c:\\users\\user\\anaconda3\\lib\\site-packages (from stack-data->ipython>=7.31.1->ipdb) (2.2.1)\n",
      "Requirement already satisfied: pure-eval in c:\\users\\user\\anaconda3\\lib\\site-packages (from stack-data->ipython>=7.31.1->ipdb) (0.2.2)\n",
      "Requirement already satisfied: executing>=1.2.0 in c:\\users\\user\\anaconda3\\lib\\site-packages (from stack-data->ipython>=7.31.1->ipdb) (1.2.0)\n",
      "Requirement already satisfied: six in c:\\users\\user\\anaconda3\\lib\\site-packages (from asttokens>=2.1.0->stack-data->ipython>=7.31.1->ipdb) (1.16.0)\n"
     ]
    }
   ],
   "source": [
    "# Pip install package name so my package name is ipdb which I'm going to use.\n",
    "\n",
    "pip install ipdb\n"
   ]
  },
  {
   "cell_type": "code",
   "execution_count": 4,
   "id": "87281a8c",
   "metadata": {},
   "outputs": [
    {
     "name": "stdout",
     "output_type": "stream",
     "text": [
      "Requirement already satisfied: pip in c:\\users\\user\\appdata\\local\\programs\\python\\python310\\lib\\site-packages (22.1.1)\n",
      "Collecting pip\n",
      "  Downloading pip-23.1.2-py3-none-any.whl (2.1 MB)\n",
      "     ---------------------------------------- 2.1/2.1 MB 1.8 MB/s eta 0:00:00\n",
      "Installing collected packages: pip\n",
      "  Attempting uninstall: pip\n",
      "    Found existing installation: pip 22.1.1\n",
      "    Uninstalling pip-22.1.1:\n",
      "      Successfully uninstalled pip-22.1.1\n",
      "Successfully installed pip-23.1.2\n",
      "Note: you may need to restart the kernel to use updated packages.\n"
     ]
    }
   ],
   "source": [
    "pip install --upgrade pip"
   ]
  },
  {
   "cell_type": "code",
   "execution_count": 3,
   "id": "06630022",
   "metadata": {},
   "outputs": [],
   "source": [
    "import ipdb    # ipdb is i-python debugger where i-python can also be called jupyter notebook"
   ]
  },
  {
   "cell_type": "code",
   "execution_count": 4,
   "id": "fa7d33ef",
   "metadata": {},
   "outputs": [],
   "source": [
    "def testdebug():\n",
    "    ipdb.set_trace()\n",
    "    t = []\n",
    "    for i in range(10):\n",
    "        t.append(i)\n",
    "        print(\"we have appended your data in the list\")\n",
    "    return t"
   ]
  },
  {
   "cell_type": "code",
   "execution_count": 7,
   "id": "1d12f40d",
   "metadata": {},
   "outputs": [
    {
     "name": "stdout",
     "output_type": "stream",
     "text": [
      "> \u001b[1;32mc:\\users\\user\\appdata\\local\\temp\\ipykernel_3816\\2819412067.py\u001b[0m(3)\u001b[0;36mtestdebug\u001b[1;34m()\u001b[0m\n",
      "\n",
      "ipdb> h\n",
      "\n",
      "Documented commands (type help <topic>):\n",
      "========================================\n",
      "EOF    commands   enable    ll        pp       s                until \n",
      "a      condition  exit      longlist  psource  skip_hidden      up    \n",
      "alias  cont       h         n         q        skip_predicates  w     \n",
      "args   context    help      next      quit     source           whatis\n",
      "b      continue   ignore    p         r        step             where \n",
      "break  d          interact  pdef      restart  tbreak         \n",
      "bt     debug      j         pdoc      return   u              \n",
      "c      disable    jump      pfile     retval   unalias        \n",
      "cl     display    l         pinfo     run      undisplay      \n",
      "clear  down       list      pinfo2    rv       unt            \n",
      "\n",
      "Miscellaneous help topics:\n",
      "==========================\n",
      "exec  pdb\n",
      "\n",
      "ipdb> t\n",
      "*** NameError: name 't' is not defined\n",
      "ipdb> r\n",
      "we have appended your data in the list\n",
      "we have appended your data in the list\n",
      "we have appended your data in the list\n",
      "we have appended your data in the list\n",
      "we have appended your data in the list\n",
      "we have appended your data in the list\n",
      "we have appended your data in the list\n",
      "we have appended your data in the list\n",
      "we have appended your data in the list\n",
      "we have appended your data in the list\n",
      "--Return--\n",
      "[0, 1, 2, 3, 4, 5, ...]\n",
      "> \u001b[1;32mc:\\users\\user\\appdata\\local\\temp\\ipykernel_3816\\2819412067.py\u001b[0m(7)\u001b[0;36mtestdebug\u001b[1;34m()\u001b[0m\n",
      "\n",
      "ipdb> s\n",
      "--Call--\n",
      "> \u001b[1;32mc:\\users\\user\\anaconda3\\lib\\site-packages\\ipython\\core\\displayhook.py\u001b[0m(252)\u001b[0;36m__call__\u001b[1;34m()\u001b[0m\n",
      "\u001b[1;32m    251 \u001b[1;33m                                                    \u001b[0mformat_dict\u001b[0m\u001b[1;33m[\u001b[0m\u001b[1;34m'text/plain'\u001b[0m\u001b[1;33m]\u001b[0m\u001b[1;33m\u001b[0m\u001b[1;33m\u001b[0m\u001b[0m\n",
      "\u001b[0m\u001b[1;32m--> 252 \u001b[1;33m\u001b[1;33m\u001b[0m\u001b[0m\n",
      "\u001b[0m\u001b[1;32m    253 \u001b[1;33m    \u001b[1;32mdef\u001b[0m \u001b[0mfinish_displayhook\u001b[0m\u001b[1;33m(\u001b[0m\u001b[0mself\u001b[0m\u001b[1;33m)\u001b[0m\u001b[1;33m:\u001b[0m\u001b[1;33m\u001b[0m\u001b[1;33m\u001b[0m\u001b[0m\n",
      "\u001b[0m\n",
      "ipdb> a\n",
      "self = <ipykernel.displayhook.ZMQShellDisplayHook object at 0x0000021135AEF490>\n",
      "result = [0, 1, 2, 3, 4, 5, 6, 7, 8, 9]\n",
      "ipdb> b\n",
      "ipdb> c\n"
     ]
    },
    {
     "data": {
      "text/plain": [
       "[0, 1, 2, 3, 4, 5, 6, 7, 8, 9]"
      ]
     },
     "execution_count": 7,
     "metadata": {},
     "output_type": "execute_result"
    }
   ],
   "source": [
    "testdebug()"
   ]
  },
  {
   "cell_type": "code",
   "execution_count": 5,
   "id": "4a0b72c5",
   "metadata": {},
   "outputs": [
    {
     "name": "stdout",
     "output_type": "stream",
     "text": [
      "> \u001b[1;32mc:\\users\\user\\appdata\\local\\temp\\ipykernel_1580\\2819412067.py\u001b[0m(3)\u001b[0;36mtestdebug\u001b[1;34m()\u001b[0m\n",
      "\n",
      "> \u001b[1;32mc:\\users\\user\\appdata\\local\\temp\\ipykernel_1580\\2819412067.py\u001b[0m(4)\u001b[0;36mtestdebug\u001b[1;34m()\u001b[0m\n",
      "\n",
      "> \u001b[1;32mc:\\users\\user\\appdata\\local\\temp\\ipykernel_1580\\2819412067.py\u001b[0m(5)\u001b[0;36mtestdebug\u001b[1;34m()\u001b[0m\n",
      "\n",
      "> \u001b[1;32mc:\\users\\user\\appdata\\local\\temp\\ipykernel_1580\\2819412067.py\u001b[0m(6)\u001b[0;36mtestdebug\u001b[1;34m()\u001b[0m\n",
      "\n",
      "we have appended your data in the list\n",
      "> \u001b[1;32mc:\\users\\user\\appdata\\local\\temp\\ipykernel_1580\\2819412067.py\u001b[0m(4)\u001b[0;36mtestdebug\u001b[1;34m()\u001b[0m\n",
      "\n",
      "we have appended your data in the list\n",
      "we have appended your data in the list\n",
      "we have appended your data in the list\n",
      "we have appended your data in the list\n",
      "we have appended your data in the list\n",
      "we have appended your data in the list\n",
      "we have appended your data in the list\n",
      "we have appended your data in the list\n",
      "we have appended your data in the list\n"
     ]
    },
    {
     "data": {
      "text/plain": [
       "[0, 1, 2, 3, 4, 5, 6, 7, 8, 9]"
      ]
     },
     "execution_count": 5,
     "metadata": {},
     "output_type": "execute_result"
    }
   ],
   "source": [
    "testdebug()\n"
   ]
  },
  {
   "cell_type": "code",
   "execution_count": 6,
   "id": "143eb44f",
   "metadata": {},
   "outputs": [
    {
     "name": "stdout",
     "output_type": "stream",
     "text": [
      "> \u001b[1;32mc:\\users\\user\\appdata\\local\\temp\\ipykernel_1580\\2819412067.py\u001b[0m(3)\u001b[0;36mtestdebug\u001b[1;34m()\u001b[0m\n",
      "\n",
      "> \u001b[1;32mc:\\users\\user\\appdata\\local\\temp\\ipykernel_1580\\2819412067.py\u001b[0m(4)\u001b[0;36mtestdebug\u001b[1;34m()\u001b[0m\n",
      "\n",
      "*** NameError: name 'i' is not defined\n",
      "> \u001b[1;32mc:\\users\\user\\appdata\\local\\temp\\ipykernel_1580\\2819412067.py\u001b[0m(5)\u001b[0;36mtestdebug\u001b[1;34m()\u001b[0m\n",
      "\n",
      "> \u001b[1;32mc:\\users\\user\\appdata\\local\\temp\\ipykernel_1580\\2819412067.py\u001b[0m(6)\u001b[0;36mtestdebug\u001b[1;34m()\u001b[0m\n",
      "\n",
      "0\n",
      "we have appended your data in the list\n",
      "> \u001b[1;32mc:\\users\\user\\appdata\\local\\temp\\ipykernel_1580\\2819412067.py\u001b[0m(4)\u001b[0;36mtestdebug\u001b[1;34m()\u001b[0m\n",
      "\n",
      "> \u001b[1;32mc:\\users\\user\\appdata\\local\\temp\\ipykernel_1580\\2819412067.py\u001b[0m(5)\u001b[0;36mtestdebug\u001b[1;34m()\u001b[0m\n",
      "\n",
      "> \u001b[1;32mc:\\users\\user\\appdata\\local\\temp\\ipykernel_1580\\2819412067.py\u001b[0m(6)\u001b[0;36mtestdebug\u001b[1;34m()\u001b[0m\n",
      "\n",
      "1\n",
      "we have appended your data in the list\n",
      "> \u001b[1;32mc:\\users\\user\\appdata\\local\\temp\\ipykernel_1580\\2819412067.py\u001b[0m(4)\u001b[0;36mtestdebug\u001b[1;34m()\u001b[0m\n",
      "\n",
      "> \u001b[1;32mc:\\users\\user\\appdata\\local\\temp\\ipykernel_1580\\2819412067.py\u001b[0m(5)\u001b[0;36mtestdebug\u001b[1;34m()\u001b[0m\n",
      "\n",
      "2\n",
      "> \u001b[1;32mc:\\users\\user\\appdata\\local\\temp\\ipykernel_1580\\2819412067.py\u001b[0m(6)\u001b[0;36mtestdebug\u001b[1;34m()\u001b[0m\n",
      "\n",
      "we have appended your data in the list\n",
      "> \u001b[1;32mc:\\users\\user\\appdata\\local\\temp\\ipykernel_1580\\2819412067.py\u001b[0m(4)\u001b[0;36mtestdebug\u001b[1;34m()\u001b[0m\n",
      "\n",
      "> \u001b[1;32mc:\\users\\user\\appdata\\local\\temp\\ipykernel_1580\\2819412067.py\u001b[0m(5)\u001b[0;36mtestdebug\u001b[1;34m()\u001b[0m\n",
      "\n",
      "> \u001b[1;32mc:\\users\\user\\appdata\\local\\temp\\ipykernel_1580\\2819412067.py\u001b[0m(6)\u001b[0;36mtestdebug\u001b[1;34m()\u001b[0m\n",
      "\n",
      "3\n",
      "we have appended your data in the list\n",
      "> \u001b[1;32mc:\\users\\user\\appdata\\local\\temp\\ipykernel_1580\\2819412067.py\u001b[0m(4)\u001b[0;36mtestdebug\u001b[1;34m()\u001b[0m\n",
      "\n",
      "*** NameError: name 'net' is not defined\n",
      "> \u001b[1;32mc:\\users\\user\\appdata\\local\\temp\\ipykernel_1580\\2819412067.py\u001b[0m(5)\u001b[0;36mtestdebug\u001b[1;34m()\u001b[0m\n",
      "\n",
      "> \u001b[1;32mc:\\users\\user\\appdata\\local\\temp\\ipykernel_1580\\2819412067.py\u001b[0m(6)\u001b[0;36mtestdebug\u001b[1;34m()\u001b[0m\n",
      "\n",
      "we have appended your data in the list\n",
      "> \u001b[1;32mc:\\users\\user\\appdata\\local\\temp\\ipykernel_1580\\2819412067.py\u001b[0m(4)\u001b[0;36mtestdebug\u001b[1;34m()\u001b[0m\n",
      "\n",
      "4\n",
      "> \u001b[1;32mc:\\users\\user\\appdata\\local\\temp\\ipykernel_1580\\2819412067.py\u001b[0m(5)\u001b[0;36mtestdebug\u001b[1;34m()\u001b[0m\n",
      "\n",
      "> \u001b[1;32mc:\\users\\user\\appdata\\local\\temp\\ipykernel_1580\\2819412067.py\u001b[0m(6)\u001b[0;36mtestdebug\u001b[1;34m()\u001b[0m\n",
      "\n",
      "we have appended your data in the list\n",
      "> \u001b[1;32mc:\\users\\user\\appdata\\local\\temp\\ipykernel_1580\\2819412067.py\u001b[0m(4)\u001b[0;36mtestdebug\u001b[1;34m()\u001b[0m\n",
      "\n",
      "> \u001b[1;32mc:\\users\\user\\appdata\\local\\temp\\ipykernel_1580\\2819412067.py\u001b[0m(5)\u001b[0;36mtestdebug\u001b[1;34m()\u001b[0m\n",
      "\n",
      "6\n",
      "> \u001b[1;32mc:\\users\\user\\appdata\\local\\temp\\ipykernel_1580\\2819412067.py\u001b[0m(6)\u001b[0;36mtestdebug\u001b[1;34m()\u001b[0m\n",
      "\n",
      "we have appended your data in the list\n",
      "we have appended your data in the list\n",
      "we have appended your data in the list\n",
      "we have appended your data in the list\n"
     ]
    },
    {
     "data": {
      "text/plain": [
       "[0, 1, 2, 3, 4, 5, 6, 7, 8, 9]"
      ]
     },
     "execution_count": 6,
     "metadata": {},
     "output_type": "execute_result"
    }
   ],
   "source": [
    "testdebug()"
   ]
  },
  {
   "attachments": {},
   "cell_type": "markdown",
   "id": "e497f1b4",
   "metadata": {},
   "source": [
    "h = help\n",
    "\n",
    "next to check the immediate line of action\n",
    "\n",
    "c = continue (cut to chase/final answer)\n",
    "\n",
    "r = return "
   ]
  },
  {
   "cell_type": "code",
   "execution_count": 7,
   "id": "cb172756",
   "metadata": {},
   "outputs": [],
   "source": [
    "def multi_testdebug():\n",
    "    ipdb.set_trace()\n",
    "    m = []\n",
    "    for i in range(10):\n",
    "        for j in range(5):\n",
    "            m.append(i)\n",
    "            if i == 4:\n",
    "                continue\n",
    "        print(\"we have appended your data in the list\")\n",
    "    return m"
   ]
  },
  {
   "cell_type": "code",
   "execution_count": 8,
   "id": "2cfb4c5e",
   "metadata": {},
   "outputs": [
    {
     "name": "stdout",
     "output_type": "stream",
     "text": [
      "> \u001b[1;32mc:\\users\\user\\appdata\\local\\temp\\ipykernel_1580\\4062506824.py\u001b[0m(3)\u001b[0;36mmulti_testdebug\u001b[1;34m()\u001b[0m\n",
      "\n",
      "we have appended your data in the list\n",
      "we have appended your data in the list\n",
      "we have appended your data in the list\n",
      "we have appended your data in the list\n",
      "we have appended your data in the list\n",
      "we have appended your data in the list\n",
      "we have appended your data in the list\n",
      "we have appended your data in the list\n",
      "we have appended your data in the list\n",
      "we have appended your data in the list\n"
     ]
    },
    {
     "data": {
      "text/plain": [
       "[0,\n",
       " 0,\n",
       " 0,\n",
       " 0,\n",
       " 0,\n",
       " 1,\n",
       " 1,\n",
       " 1,\n",
       " 1,\n",
       " 1,\n",
       " 2,\n",
       " 2,\n",
       " 2,\n",
       " 2,\n",
       " 2,\n",
       " 3,\n",
       " 3,\n",
       " 3,\n",
       " 3,\n",
       " 3,\n",
       " 4,\n",
       " 4,\n",
       " 4,\n",
       " 4,\n",
       " 4,\n",
       " 5,\n",
       " 5,\n",
       " 5,\n",
       " 5,\n",
       " 5,\n",
       " 6,\n",
       " 6,\n",
       " 6,\n",
       " 6,\n",
       " 6,\n",
       " 7,\n",
       " 7,\n",
       " 7,\n",
       " 7,\n",
       " 7,\n",
       " 8,\n",
       " 8,\n",
       " 8,\n",
       " 8,\n",
       " 8,\n",
       " 9,\n",
       " 9,\n",
       " 9,\n",
       " 9,\n",
       " 9]"
      ]
     },
     "execution_count": 8,
     "metadata": {},
     "output_type": "execute_result"
    }
   ],
   "source": [
    "multi_testdebug()"
   ]
  },
  {
   "cell_type": "code",
   "execution_count": 9,
   "id": "4d266742",
   "metadata": {},
   "outputs": [
    {
     "name": "stdout",
     "output_type": "stream",
     "text": [
      "> \u001b[1;32mc:\\users\\user\\appdata\\local\\temp\\ipykernel_1580\\4062506824.py\u001b[0m(3)\u001b[0;36mmulti_testdebug\u001b[1;34m()\u001b[0m\n",
      "\n",
      "> \u001b[1;32mc:\\users\\user\\appdata\\local\\temp\\ipykernel_1580\\4062506824.py\u001b[0m(4)\u001b[0;36mmulti_testdebug\u001b[1;34m()\u001b[0m\n",
      "\n",
      "> \u001b[1;32mc:\\users\\user\\appdata\\local\\temp\\ipykernel_1580\\4062506824.py\u001b[0m(5)\u001b[0;36mmulti_testdebug\u001b[1;34m()\u001b[0m\n",
      "\n",
      "> \u001b[1;32mc:\\users\\user\\appdata\\local\\temp\\ipykernel_1580\\4062506824.py\u001b[0m(6)\u001b[0;36mmulti_testdebug\u001b[1;34m()\u001b[0m\n",
      "\n",
      "> \u001b[1;32mc:\\users\\user\\appdata\\local\\temp\\ipykernel_1580\\4062506824.py\u001b[0m(7)\u001b[0;36mmulti_testdebug\u001b[1;34m()\u001b[0m\n",
      "\n",
      "> \u001b[1;32mc:\\users\\user\\appdata\\local\\temp\\ipykernel_1580\\4062506824.py\u001b[0m(5)\u001b[0;36mmulti_testdebug\u001b[1;34m()\u001b[0m\n",
      "\n",
      "> \u001b[1;32mc:\\users\\user\\appdata\\local\\temp\\ipykernel_1580\\4062506824.py\u001b[0m(6)\u001b[0;36mmulti_testdebug\u001b[1;34m()\u001b[0m\n",
      "\n",
      "0\n",
      "> \u001b[1;32mc:\\users\\user\\appdata\\local\\temp\\ipykernel_1580\\4062506824.py\u001b[0m(7)\u001b[0;36mmulti_testdebug\u001b[1;34m()\u001b[0m\n",
      "\n",
      "> \u001b[1;32mc:\\users\\user\\appdata\\local\\temp\\ipykernel_1580\\4062506824.py\u001b[0m(5)\u001b[0;36mmulti_testdebug\u001b[1;34m()\u001b[0m\n",
      "\n",
      "> \u001b[1;32mc:\\users\\user\\appdata\\local\\temp\\ipykernel_1580\\4062506824.py\u001b[0m(6)\u001b[0;36mmulti_testdebug\u001b[1;34m()\u001b[0m\n",
      "\n",
      "0\n",
      "*** The 'jump' command requires a line number\n",
      "> \u001b[1;32mc:\\users\\user\\appdata\\local\\temp\\ipykernel_1580\\4062506824.py\u001b[0m(7)\u001b[0;36mmulti_testdebug\u001b[1;34m()\u001b[0m\n",
      "\n",
      "> \u001b[1;32mc:\\users\\user\\appdata\\local\\temp\\ipykernel_1580\\4062506824.py\u001b[0m(5)\u001b[0;36mmulti_testdebug\u001b[1;34m()\u001b[0m\n",
      "\n",
      "> \u001b[1;32mc:\\users\\user\\appdata\\local\\temp\\ipykernel_1580\\4062506824.py\u001b[0m(6)\u001b[0;36mmulti_testdebug\u001b[1;34m()\u001b[0m\n",
      "\n",
      "> \u001b[1;32mc:\\users\\user\\appdata\\local\\temp\\ipykernel_1580\\4062506824.py\u001b[0m(7)\u001b[0;36mmulti_testdebug\u001b[1;34m()\u001b[0m\n",
      "\n",
      "> \u001b[1;32mc:\\users\\user\\appdata\\local\\temp\\ipykernel_1580\\4062506824.py\u001b[0m(5)\u001b[0;36mmulti_testdebug\u001b[1;34m()\u001b[0m\n",
      "\n",
      "> \u001b[1;32mc:\\users\\user\\appdata\\local\\temp\\ipykernel_1580\\4062506824.py\u001b[0m(6)\u001b[0;36mmulti_testdebug\u001b[1;34m()\u001b[0m\n",
      "\n",
      "> \u001b[1;32mc:\\users\\user\\appdata\\local\\temp\\ipykernel_1580\\4062506824.py\u001b[0m(7)\u001b[0;36mmulti_testdebug\u001b[1;34m()\u001b[0m\n",
      "\n",
      "> \u001b[1;32mc:\\users\\user\\appdata\\local\\temp\\ipykernel_1580\\4062506824.py\u001b[0m(5)\u001b[0;36mmulti_testdebug\u001b[1;34m()\u001b[0m\n",
      "\n",
      "> \u001b[1;32mc:\\users\\user\\appdata\\local\\temp\\ipykernel_1580\\4062506824.py\u001b[0m(9)\u001b[0;36mmulti_testdebug\u001b[1;34m()\u001b[0m\n",
      "\n",
      "we have appended your data in the list\n",
      "> \u001b[1;32mc:\\users\\user\\appdata\\local\\temp\\ipykernel_1580\\4062506824.py\u001b[0m(4)\u001b[0;36mmulti_testdebug\u001b[1;34m()\u001b[0m\n",
      "\n",
      "> \u001b[1;32mc:\\users\\user\\appdata\\local\\temp\\ipykernel_1580\\4062506824.py\u001b[0m(5)\u001b[0;36mmulti_testdebug\u001b[1;34m()\u001b[0m\n",
      "\n",
      "> \u001b[1;32mc:\\users\\user\\appdata\\local\\temp\\ipykernel_1580\\4062506824.py\u001b[0m(6)\u001b[0;36mmulti_testdebug\u001b[1;34m()\u001b[0m\n",
      "\n",
      "> \u001b[1;32mc:\\users\\user\\appdata\\local\\temp\\ipykernel_1580\\4062506824.py\u001b[0m(7)\u001b[0;36mmulti_testdebug\u001b[1;34m()\u001b[0m\n",
      "\n",
      "> \u001b[1;32mc:\\users\\user\\appdata\\local\\temp\\ipykernel_1580\\4062506824.py\u001b[0m(5)\u001b[0;36mmulti_testdebug\u001b[1;34m()\u001b[0m\n",
      "\n",
      "> \u001b[1;32mc:\\users\\user\\appdata\\local\\temp\\ipykernel_1580\\4062506824.py\u001b[0m(6)\u001b[0;36mmulti_testdebug\u001b[1;34m()\u001b[0m\n",
      "\n",
      "> \u001b[1;32mc:\\users\\user\\appdata\\local\\temp\\ipykernel_1580\\4062506824.py\u001b[0m(7)\u001b[0;36mmulti_testdebug\u001b[1;34m()\u001b[0m\n",
      "\n",
      "> \u001b[1;32mc:\\users\\user\\appdata\\local\\temp\\ipykernel_1580\\4062506824.py\u001b[0m(5)\u001b[0;36mmulti_testdebug\u001b[1;34m()\u001b[0m\n",
      "\n",
      "> \u001b[1;32mc:\\users\\user\\appdata\\local\\temp\\ipykernel_1580\\4062506824.py\u001b[0m(6)\u001b[0;36mmulti_testdebug\u001b[1;34m()\u001b[0m\n",
      "\n",
      "> \u001b[1;32mc:\\users\\user\\appdata\\local\\temp\\ipykernel_1580\\4062506824.py\u001b[0m(7)\u001b[0;36mmulti_testdebug\u001b[1;34m()\u001b[0m\n",
      "\n",
      "> \u001b[1;32mc:\\users\\user\\appdata\\local\\temp\\ipykernel_1580\\4062506824.py\u001b[0m(5)\u001b[0;36mmulti_testdebug\u001b[1;34m()\u001b[0m\n",
      "\n",
      "> \u001b[1;32mc:\\users\\user\\appdata\\local\\temp\\ipykernel_1580\\4062506824.py\u001b[0m(6)\u001b[0;36mmulti_testdebug\u001b[1;34m()\u001b[0m\n",
      "\n",
      "> \u001b[1;32mc:\\users\\user\\appdata\\local\\temp\\ipykernel_1580\\4062506824.py\u001b[0m(7)\u001b[0;36mmulti_testdebug\u001b[1;34m()\u001b[0m\n",
      "\n",
      "> \u001b[1;32mc:\\users\\user\\appdata\\local\\temp\\ipykernel_1580\\4062506824.py\u001b[0m(5)\u001b[0;36mmulti_testdebug\u001b[1;34m()\u001b[0m\n",
      "\n",
      "> \u001b[1;32mc:\\users\\user\\appdata\\local\\temp\\ipykernel_1580\\4062506824.py\u001b[0m(6)\u001b[0;36mmulti_testdebug\u001b[1;34m()\u001b[0m\n",
      "\n",
      "> \u001b[1;32mc:\\users\\user\\appdata\\local\\temp\\ipykernel_1580\\4062506824.py\u001b[0m(7)\u001b[0;36mmulti_testdebug\u001b[1;34m()\u001b[0m\n",
      "\n",
      "> \u001b[1;32mc:\\users\\user\\appdata\\local\\temp\\ipykernel_1580\\4062506824.py\u001b[0m(5)\u001b[0;36mmulti_testdebug\u001b[1;34m()\u001b[0m\n",
      "\n",
      "> \u001b[1;32mc:\\users\\user\\appdata\\local\\temp\\ipykernel_1580\\4062506824.py\u001b[0m(9)\u001b[0;36mmulti_testdebug\u001b[1;34m()\u001b[0m\n",
      "\n",
      "we have appended your data in the list\n",
      "> \u001b[1;32mc:\\users\\user\\appdata\\local\\temp\\ipykernel_1580\\4062506824.py\u001b[0m(4)\u001b[0;36mmulti_testdebug\u001b[1;34m()\u001b[0m\n",
      "\n",
      "> \u001b[1;32mc:\\users\\user\\appdata\\local\\temp\\ipykernel_1580\\4062506824.py\u001b[0m(5)\u001b[0;36mmulti_testdebug\u001b[1;34m()\u001b[0m\n",
      "\n",
      "> \u001b[1;32mc:\\users\\user\\appdata\\local\\temp\\ipykernel_1580\\4062506824.py\u001b[0m(6)\u001b[0;36mmulti_testdebug\u001b[1;34m()\u001b[0m\n",
      "\n",
      "> \u001b[1;32mc:\\users\\user\\appdata\\local\\temp\\ipykernel_1580\\4062506824.py\u001b[0m(7)\u001b[0;36mmulti_testdebug\u001b[1;34m()\u001b[0m\n",
      "\n",
      "> \u001b[1;32mc:\\users\\user\\appdata\\local\\temp\\ipykernel_1580\\4062506824.py\u001b[0m(5)\u001b[0;36mmulti_testdebug\u001b[1;34m()\u001b[0m\n",
      "\n",
      "> \u001b[1;32mc:\\users\\user\\appdata\\local\\temp\\ipykernel_1580\\4062506824.py\u001b[0m(6)\u001b[0;36mmulti_testdebug\u001b[1;34m()\u001b[0m\n",
      "\n",
      "> \u001b[1;32mc:\\users\\user\\appdata\\local\\temp\\ipykernel_1580\\4062506824.py\u001b[0m(7)\u001b[0;36mmulti_testdebug\u001b[1;34m()\u001b[0m\n",
      "\n",
      "> \u001b[1;32mc:\\users\\user\\appdata\\local\\temp\\ipykernel_1580\\4062506824.py\u001b[0m(5)\u001b[0;36mmulti_testdebug\u001b[1;34m()\u001b[0m\n",
      "\n",
      "2\n",
      "*** The 'jump' command requires a line number\n",
      "*** SyntaxError: invalid syntax\n",
      "*** The 'jump' command requires a line number\n",
      "*** SyntaxError: invalid syntax\n",
      "> \u001b[1;32mc:\\users\\user\\appdata\\local\\temp\\ipykernel_1580\\4062506824.py\u001b[0m(6)\u001b[0;36mmulti_testdebug\u001b[1;34m()\u001b[0m\n",
      "\n",
      "> \u001b[1;32mc:\\users\\user\\appdata\\local\\temp\\ipykernel_1580\\4062506824.py\u001b[0m(7)\u001b[0;36mmulti_testdebug\u001b[1;34m()\u001b[0m\n",
      "\n",
      "> \u001b[1;32mc:\\users\\user\\appdata\\local\\temp\\ipykernel_1580\\4062506824.py\u001b[0m(5)\u001b[0;36mmulti_testdebug\u001b[1;34m()\u001b[0m\n",
      "\n",
      "> \u001b[1;32mc:\\users\\user\\appdata\\local\\temp\\ipykernel_1580\\4062506824.py\u001b[0m(6)\u001b[0;36mmulti_testdebug\u001b[1;34m()\u001b[0m\n",
      "\n",
      "> \u001b[1;32mc:\\users\\user\\appdata\\local\\temp\\ipykernel_1580\\4062506824.py\u001b[0m(7)\u001b[0;36mmulti_testdebug\u001b[1;34m()\u001b[0m\n",
      "\n",
      "> \u001b[1;32mc:\\users\\user\\appdata\\local\\temp\\ipykernel_1580\\4062506824.py\u001b[0m(5)\u001b[0;36mmulti_testdebug\u001b[1;34m()\u001b[0m\n",
      "\n",
      "> \u001b[1;32mc:\\users\\user\\appdata\\local\\temp\\ipykernel_1580\\4062506824.py\u001b[0m(6)\u001b[0;36mmulti_testdebug\u001b[1;34m()\u001b[0m\n",
      "\n",
      "> \u001b[1;32mc:\\users\\user\\appdata\\local\\temp\\ipykernel_1580\\4062506824.py\u001b[0m(7)\u001b[0;36mmulti_testdebug\u001b[1;34m()\u001b[0m\n",
      "\n",
      "> \u001b[1;32mc:\\users\\user\\appdata\\local\\temp\\ipykernel_1580\\4062506824.py\u001b[0m(5)\u001b[0;36mmulti_testdebug\u001b[1;34m()\u001b[0m\n",
      "\n",
      "> \u001b[1;32mc:\\users\\user\\appdata\\local\\temp\\ipykernel_1580\\4062506824.py\u001b[0m(9)\u001b[0;36mmulti_testdebug\u001b[1;34m()\u001b[0m\n",
      "\n",
      "we have appended your data in the list\n",
      "> \u001b[1;32mc:\\users\\user\\appdata\\local\\temp\\ipykernel_1580\\4062506824.py\u001b[0m(4)\u001b[0;36mmulti_testdebug\u001b[1;34m()\u001b[0m\n",
      "\n",
      "> \u001b[1;32mc:\\users\\user\\appdata\\local\\temp\\ipykernel_1580\\4062506824.py\u001b[0m(5)\u001b[0;36mmulti_testdebug\u001b[1;34m()\u001b[0m\n",
      "\n",
      "> \u001b[1;32mc:\\users\\user\\appdata\\local\\temp\\ipykernel_1580\\4062506824.py\u001b[0m(6)\u001b[0;36mmulti_testdebug\u001b[1;34m()\u001b[0m\n",
      "\n",
      "> \u001b[1;32mc:\\users\\user\\appdata\\local\\temp\\ipykernel_1580\\4062506824.py\u001b[0m(7)\u001b[0;36mmulti_testdebug\u001b[1;34m()\u001b[0m\n",
      "\n",
      "> \u001b[1;32mc:\\users\\user\\appdata\\local\\temp\\ipykernel_1580\\4062506824.py\u001b[0m(5)\u001b[0;36mmulti_testdebug\u001b[1;34m()\u001b[0m\n",
      "\n",
      "*** NameError: name 'ni' is not defined\n",
      "> \u001b[1;32mc:\\users\\user\\appdata\\local\\temp\\ipykernel_1580\\4062506824.py\u001b[0m(6)\u001b[0;36mmulti_testdebug\u001b[1;34m()\u001b[0m\n",
      "\n",
      "3\n",
      "False\n",
      "False\n",
      "> \u001b[1;32mc:\\users\\user\\appdata\\local\\temp\\ipykernel_1580\\4062506824.py\u001b[0m(7)\u001b[0;36mmulti_testdebug\u001b[1;34m()\u001b[0m\n",
      "\n",
      "True\n",
      "False\n",
      "> \u001b[1;32mc:\\users\\user\\appdata\\local\\temp\\ipykernel_1580\\4062506824.py\u001b[0m(8)\u001b[0;36mmulti_testdebug\u001b[1;34m()\u001b[0m\n",
      "\n",
      "> \u001b[1;32mc:\\users\\user\\appdata\\local\\temp\\ipykernel_1580\\4062506824.py\u001b[0m(5)\u001b[0;36mmulti_testdebug\u001b[1;34m()\u001b[0m\n",
      "\n",
      "> \u001b[1;32mc:\\users\\user\\appdata\\local\\temp\\ipykernel_1580\\4062506824.py\u001b[0m(6)\u001b[0;36mmulti_testdebug\u001b[1;34m()\u001b[0m\n",
      "\n",
      "> \u001b[1;32mc:\\users\\user\\appdata\\local\\temp\\ipykernel_1580\\4062506824.py\u001b[0m(7)\u001b[0;36mmulti_testdebug\u001b[1;34m()\u001b[0m\n",
      "\n",
      "> \u001b[1;32mc:\\users\\user\\appdata\\local\\temp\\ipykernel_1580\\4062506824.py\u001b[0m(8)\u001b[0;36mmulti_testdebug\u001b[1;34m()\u001b[0m\n",
      "\n",
      "> \u001b[1;32mc:\\users\\user\\appdata\\local\\temp\\ipykernel_1580\\4062506824.py\u001b[0m(5)\u001b[0;36mmulti_testdebug\u001b[1;34m()\u001b[0m\n",
      "\n",
      "4\n",
      "> \u001b[1;32mc:\\users\\user\\appdata\\local\\temp\\ipykernel_1580\\4062506824.py\u001b[0m(6)\u001b[0;36mmulti_testdebug\u001b[1;34m()\u001b[0m\n",
      "\n",
      "*** The 'jump' command requires a line number\n",
      "5\n",
      "*** The 'jump' command requires a line number\n",
      "5\n",
      "> \u001b[1;32mc:\\users\\user\\appdata\\local\\temp\\ipykernel_1580\\4062506824.py\u001b[0m(7)\u001b[0;36mmulti_testdebug\u001b[1;34m()\u001b[0m\n",
      "\n",
      "> \u001b[1;32mc:\\users\\user\\appdata\\local\\temp\\ipykernel_1580\\4062506824.py\u001b[0m(8)\u001b[0;36mmulti_testdebug\u001b[1;34m()\u001b[0m\n",
      "\n",
      "> \u001b[1;32mc:\\users\\user\\appdata\\local\\temp\\ipykernel_1580\\4062506824.py\u001b[0m(5)\u001b[0;36mmulti_testdebug\u001b[1;34m()\u001b[0m\n",
      "\n",
      "> \u001b[1;32mc:\\users\\user\\appdata\\local\\temp\\ipykernel_1580\\4062506824.py\u001b[0m(6)\u001b[0;36mmulti_testdebug\u001b[1;34m()\u001b[0m\n",
      "\n",
      "> \u001b[1;32mc:\\users\\user\\appdata\\local\\temp\\ipykernel_1580\\4062506824.py\u001b[0m(7)\u001b[0;36mmulti_testdebug\u001b[1;34m()\u001b[0m\n",
      "\n",
      "4\n",
      "> \u001b[1;32mc:\\users\\user\\appdata\\local\\temp\\ipykernel_1580\\4062506824.py\u001b[0m(8)\u001b[0;36mmulti_testdebug\u001b[1;34m()\u001b[0m\n",
      "\n",
      "j(ump) lineno\n",
      "        Set the next line that will be executed.  Only available in\n",
      "        the bottom-most frame.  This lets you jump back and execute\n",
      "        code again, or jump forward to skip code that you don't want\n",
      "        to run.\n",
      "\n",
      "        It should be noted that not all jumps are allowed -- for\n",
      "        instance it is not possible to jump into the middle of a\n",
      "        for loop or out of a finally clause.\n",
      "we have appended your data in the list\n",
      "we have appended your data in the list\n",
      "we have appended your data in the list\n",
      "we have appended your data in the list\n",
      "we have appended your data in the list\n",
      "we have appended your data in the list\n",
      "we have appended your data in the list\n"
     ]
    },
    {
     "data": {
      "text/plain": [
       "[0,\n",
       " 0,\n",
       " 0,\n",
       " 0,\n",
       " 0,\n",
       " 1,\n",
       " 1,\n",
       " 1,\n",
       " 1,\n",
       " 1,\n",
       " 2,\n",
       " 2,\n",
       " 2,\n",
       " 2,\n",
       " 2,\n",
       " 3,\n",
       " 3,\n",
       " 4,\n",
       " 4,\n",
       " 4,\n",
       " 4,\n",
       " 4,\n",
       " 4,\n",
       " 4,\n",
       " 4,\n",
       " 5,\n",
       " 5,\n",
       " 5,\n",
       " 5,\n",
       " 5,\n",
       " 6,\n",
       " 6,\n",
       " 6,\n",
       " 6,\n",
       " 6,\n",
       " 7,\n",
       " 7,\n",
       " 7,\n",
       " 7,\n",
       " 7,\n",
       " 8,\n",
       " 8,\n",
       " 8,\n",
       " 8,\n",
       " 8,\n",
       " 9,\n",
       " 9,\n",
       " 9,\n",
       " 9,\n",
       " 9]"
      ]
     },
     "execution_count": 9,
     "metadata": {},
     "output_type": "execute_result"
    }
   ],
   "source": [
    "multi_testdebug()"
   ]
  },
  {
   "attachments": {},
   "cell_type": "markdown",
   "id": "eed75f20",
   "metadata": {},
   "source": [
    "after pressing next 4times, it can be seen that it wasn't able to execute continue in the 'if' statement (body of the \"if\" statement)"
   ]
  },
  {
   "attachments": {},
   "cell_type": "markdown",
   "id": "cd5022b2",
   "metadata": {},
   "source": []
  },
  {
   "cell_type": "code",
   "execution_count": 10,
   "id": "362ffd3a",
   "metadata": {},
   "outputs": [
    {
     "name": "stdout",
     "output_type": "stream",
     "text": [
      "> \u001b[1;32mc:\\users\\user\\appdata\\local\\temp\\ipykernel_1580\\4062506824.py\u001b[0m(3)\u001b[0;36mmulti_testdebug\u001b[1;34m()\u001b[0m\n",
      "\n",
      "*** Newest frame\n",
      "*** Newest frame\n",
      "*** Newest frame\n",
      "*** Newest frame\n",
      "*** Newest frame\n",
      "*** Newest frame\n",
      "> \u001b[1;32mc:\\users\\user\\appdata\\local\\temp\\ipykernel_1580\\4062506824.py\u001b[0m(4)\u001b[0;36mmulti_testdebug\u001b[1;34m()\u001b[0m\n",
      "\n",
      "> \u001b[1;32mc:\\users\\user\\appdata\\local\\temp\\ipykernel_1580\\4062506824.py\u001b[0m(5)\u001b[0;36mmulti_testdebug\u001b[1;34m()\u001b[0m\n",
      "\n",
      "> \u001b[1;32mc:\\users\\user\\appdata\\local\\temp\\ipykernel_1580\\4062506824.py\u001b[0m(6)\u001b[0;36mmulti_testdebug\u001b[1;34m()\u001b[0m\n",
      "\n",
      "> \u001b[1;32mc:\\users\\user\\appdata\\local\\temp\\ipykernel_1580\\4062506824.py\u001b[0m(7)\u001b[0;36mmulti_testdebug\u001b[1;34m()\u001b[0m\n",
      "\n",
      "> \u001b[1;32mc:\\users\\user\\appdata\\local\\temp\\ipykernel_1580\\4062506824.py\u001b[0m(5)\u001b[0;36mmulti_testdebug\u001b[1;34m()\u001b[0m\n",
      "\n",
      "> \u001b[1;32mc:\\users\\user\\appdata\\local\\temp\\ipykernel_1580\\4062506824.py\u001b[0m(6)\u001b[0;36mmulti_testdebug\u001b[1;34m()\u001b[0m\n",
      "\n",
      "> \u001b[1;32mc:\\users\\user\\appdata\\local\\temp\\ipykernel_1580\\4062506824.py\u001b[0m(7)\u001b[0;36mmulti_testdebug\u001b[1;34m()\u001b[0m\n",
      "\n",
      "> \u001b[1;32mc:\\users\\user\\appdata\\local\\temp\\ipykernel_1580\\4062506824.py\u001b[0m(5)\u001b[0;36mmulti_testdebug\u001b[1;34m()\u001b[0m\n",
      "\n",
      "> \u001b[1;32mc:\\users\\user\\appdata\\local\\temp\\ipykernel_1580\\4062506824.py\u001b[0m(6)\u001b[0;36mmulti_testdebug\u001b[1;34m()\u001b[0m\n",
      "\n",
      "> \u001b[1;32mc:\\users\\user\\appdata\\local\\temp\\ipykernel_1580\\4062506824.py\u001b[0m(7)\u001b[0;36mmulti_testdebug\u001b[1;34m()\u001b[0m\n",
      "\n",
      "> \u001b[1;32mc:\\users\\user\\appdata\\local\\temp\\ipykernel_1580\\4062506824.py\u001b[0m(5)\u001b[0;36mmulti_testdebug\u001b[1;34m()\u001b[0m\n",
      "\n",
      "> \u001b[1;32mc:\\users\\user\\appdata\\local\\temp\\ipykernel_1580\\4062506824.py\u001b[0m(6)\u001b[0;36mmulti_testdebug\u001b[1;34m()\u001b[0m\n",
      "\n",
      "> \u001b[1;32mc:\\users\\user\\appdata\\local\\temp\\ipykernel_1580\\4062506824.py\u001b[0m(7)\u001b[0;36mmulti_testdebug\u001b[1;34m()\u001b[0m\n",
      "\n",
      "> \u001b[1;32mc:\\users\\user\\appdata\\local\\temp\\ipykernel_1580\\4062506824.py\u001b[0m(5)\u001b[0;36mmulti_testdebug\u001b[1;34m()\u001b[0m\n",
      "\n",
      "> \u001b[1;32mc:\\users\\user\\appdata\\local\\temp\\ipykernel_1580\\4062506824.py\u001b[0m(6)\u001b[0;36mmulti_testdebug\u001b[1;34m()\u001b[0m\n",
      "\n",
      "> \u001b[1;32mc:\\users\\user\\appdata\\local\\temp\\ipykernel_1580\\4062506824.py\u001b[0m(7)\u001b[0;36mmulti_testdebug\u001b[1;34m()\u001b[0m\n",
      "\n",
      "> \u001b[1;32mc:\\users\\user\\appdata\\local\\temp\\ipykernel_1580\\4062506824.py\u001b[0m(5)\u001b[0;36mmulti_testdebug\u001b[1;34m()\u001b[0m\n",
      "\n",
      "> \u001b[1;32mc:\\users\\user\\appdata\\local\\temp\\ipykernel_1580\\4062506824.py\u001b[0m(9)\u001b[0;36mmulti_testdebug\u001b[1;34m()\u001b[0m\n",
      "\n",
      "we have appended your data in the list\n",
      "> \u001b[1;32mc:\\users\\user\\appdata\\local\\temp\\ipykernel_1580\\4062506824.py\u001b[0m(4)\u001b[0;36mmulti_testdebug\u001b[1;34m()\u001b[0m\n",
      "\n",
      "> \u001b[1;32mc:\\users\\user\\appdata\\local\\temp\\ipykernel_1580\\4062506824.py\u001b[0m(5)\u001b[0;36mmulti_testdebug\u001b[1;34m()\u001b[0m\n",
      "\n",
      "> \u001b[1;32mc:\\users\\user\\appdata\\local\\temp\\ipykernel_1580\\4062506824.py\u001b[0m(6)\u001b[0;36mmulti_testdebug\u001b[1;34m()\u001b[0m\n",
      "\n",
      "> \u001b[1;32mc:\\users\\user\\appdata\\local\\temp\\ipykernel_1580\\4062506824.py\u001b[0m(7)\u001b[0;36mmulti_testdebug\u001b[1;34m()\u001b[0m\n",
      "\n",
      "1\n",
      "*** The 'jump' command requires a line number\n",
      "*** The 'jump' command requires a line number\n",
      "> \u001b[1;32mc:\\users\\user\\appdata\\local\\temp\\ipykernel_1580\\4062506824.py\u001b[0m(8)\u001b[0;36mmulti_testdebug\u001b[1;34m()\u001b[0m\n",
      "\n",
      "> \u001b[1;32mc:\\users\\user\\appdata\\local\\temp\\ipykernel_1580\\4062506824.py\u001b[0m(5)\u001b[0;36mmulti_testdebug\u001b[1;34m()\u001b[0m\n",
      "\n",
      "> \u001b[1;32mc:\\users\\user\\appdata\\local\\temp\\ipykernel_1580\\4062506824.py\u001b[0m(6)\u001b[0;36mmulti_testdebug\u001b[1;34m()\u001b[0m\n",
      "\n",
      "> \u001b[1;32mc:\\users\\user\\appdata\\local\\temp\\ipykernel_1580\\4062506824.py\u001b[0m(7)\u001b[0;36mmulti_testdebug\u001b[1;34m()\u001b[0m\n",
      "\n",
      "> \u001b[1;32mc:\\users\\user\\appdata\\local\\temp\\ipykernel_1580\\4062506824.py\u001b[0m(8)\u001b[0;36mmulti_testdebug\u001b[1;34m()\u001b[0m\n",
      "\n",
      "> \u001b[1;32mc:\\users\\user\\appdata\\local\\temp\\ipykernel_1580\\4062506824.py\u001b[0m(5)\u001b[0;36mmulti_testdebug\u001b[1;34m()\u001b[0m\n",
      "\n",
      "> \u001b[1;32mc:\\users\\user\\appdata\\local\\temp\\ipykernel_1580\\4062506824.py\u001b[0m(6)\u001b[0;36mmulti_testdebug\u001b[1;34m()\u001b[0m\n",
      "\n",
      "> \u001b[1;32mc:\\users\\user\\appdata\\local\\temp\\ipykernel_1580\\4062506824.py\u001b[0m(7)\u001b[0;36mmulti_testdebug\u001b[1;34m()\u001b[0m\n",
      "\n",
      "> \u001b[1;32mc:\\users\\user\\appdata\\local\\temp\\ipykernel_1580\\4062506824.py\u001b[0m(8)\u001b[0;36mmulti_testdebug\u001b[1;34m()\u001b[0m\n",
      "\n",
      "> \u001b[1;32mc:\\users\\user\\appdata\\local\\temp\\ipykernel_1580\\4062506824.py\u001b[0m(5)\u001b[0;36mmulti_testdebug\u001b[1;34m()\u001b[0m\n",
      "\n",
      "> \u001b[1;32mc:\\users\\user\\appdata\\local\\temp\\ipykernel_1580\\4062506824.py\u001b[0m(6)\u001b[0;36mmulti_testdebug\u001b[1;34m()\u001b[0m\n",
      "\n",
      "> \u001b[1;32mc:\\users\\user\\appdata\\local\\temp\\ipykernel_1580\\4062506824.py\u001b[0m(7)\u001b[0;36mmulti_testdebug\u001b[1;34m()\u001b[0m\n",
      "\n",
      "> \u001b[1;32mc:\\users\\user\\appdata\\local\\temp\\ipykernel_1580\\4062506824.py\u001b[0m(8)\u001b[0;36mmulti_testdebug\u001b[1;34m()\u001b[0m\n",
      "\n",
      "> \u001b[1;32mc:\\users\\user\\appdata\\local\\temp\\ipykernel_1580\\4062506824.py\u001b[0m(5)\u001b[0;36mmulti_testdebug\u001b[1;34m()\u001b[0m\n",
      "\n",
      "> \u001b[1;32mc:\\users\\user\\appdata\\local\\temp\\ipykernel_1580\\4062506824.py\u001b[0m(6)\u001b[0;36mmulti_testdebug\u001b[1;34m()\u001b[0m\n",
      "\n",
      "> \u001b[1;32mc:\\users\\user\\appdata\\local\\temp\\ipykernel_1580\\4062506824.py\u001b[0m(7)\u001b[0;36mmulti_testdebug\u001b[1;34m()\u001b[0m\n",
      "\n",
      "> \u001b[1;32mc:\\users\\user\\appdata\\local\\temp\\ipykernel_1580\\4062506824.py\u001b[0m(8)\u001b[0;36mmulti_testdebug\u001b[1;34m()\u001b[0m\n",
      "\n",
      "> \u001b[1;32mc:\\users\\user\\appdata\\local\\temp\\ipykernel_1580\\4062506824.py\u001b[0m(5)\u001b[0;36mmulti_testdebug\u001b[1;34m()\u001b[0m\n",
      "\n",
      "> \u001b[1;32mc:\\users\\user\\appdata\\local\\temp\\ipykernel_1580\\4062506824.py\u001b[0m(9)\u001b[0;36mmulti_testdebug\u001b[1;34m()\u001b[0m\n",
      "\n",
      "we have appended your data in the list\n",
      "> \u001b[1;32mc:\\users\\user\\appdata\\local\\temp\\ipykernel_1580\\4062506824.py\u001b[0m(4)\u001b[0;36mmulti_testdebug\u001b[1;34m()\u001b[0m\n",
      "\n",
      "> \u001b[1;32mc:\\users\\user\\appdata\\local\\temp\\ipykernel_1580\\4062506824.py\u001b[0m(5)\u001b[0;36mmulti_testdebug\u001b[1;34m()\u001b[0m\n",
      "\n",
      "> \u001b[1;32mc:\\users\\user\\appdata\\local\\temp\\ipykernel_1580\\4062506824.py\u001b[0m(6)\u001b[0;36mmulti_testdebug\u001b[1;34m()\u001b[0m\n",
      "\n",
      "2\n",
      "> \u001b[1;32mc:\\users\\user\\appdata\\local\\temp\\ipykernel_1580\\4062506824.py\u001b[0m(7)\u001b[0;36mmulti_testdebug\u001b[1;34m()\u001b[0m\n",
      "\n",
      "> \u001b[1;32mc:\\users\\user\\appdata\\local\\temp\\ipykernel_1580\\2073963524.py\u001b[0m(1)\u001b[0;36m<cell line: 1>\u001b[1;34m()\u001b[0m\n",
      "\n",
      "*** all frames above hidden, use `skip_hidden False` to get get into those.\n",
      "*** all frames above hidden, use `skip_hidden False` to get get into those.\n",
      "*** all frames above hidden, use `skip_hidden False` to get get into those.\n",
      "*** all frames above hidden, use `skip_hidden False` to get get into those.\n",
      "*** all frames above hidden, use `skip_hidden False` to get get into those.\n",
      "*** No help for '(d'\n",
      "d(own) [count]\n",
      "        Move the current frame count (default one) levels down in the\n",
      "        stack trace (to a newer frame).\n",
      "\n",
      "        Will skip hidden frames.\n",
      "> \u001b[1;32mc:\\users\\user\\appdata\\local\\temp\\ipykernel_1580\\4062506824.py\u001b[0m(7)\u001b[0;36mmulti_testdebug\u001b[1;34m()\u001b[0m\n",
      "\n",
      "*** Newest frame\n",
      "*** Newest frame\n",
      "*** Newest frame\n",
      "*** Newest frame\n",
      "*** Newest frame\n",
      "*** Newest frame\n",
      "*** Newest frame\n",
      "*** Newest frame\n",
      "*** Newest frame\n",
      "*** Newest frame\n",
      "> \u001b[1;32mc:\\users\\user\\appdata\\local\\temp\\ipykernel_1580\\2073963524.py\u001b[0m(1)\u001b[0;36m<cell line: 1>\u001b[1;34m()\u001b[0m\n",
      "\n",
      "*** all frames above hidden, use `skip_hidden False` to get get into those.\n",
      "*** all frames above hidden, use `skip_hidden False` to get get into those.\n",
      "*** all frames above hidden, use `skip_hidden False` to get get into those.\n",
      "*** all frames above hidden, use `skip_hidden False` to get get into those.\n",
      "*** all frames above hidden, use `skip_hidden False` to get get into those.\n",
      "*** all frames above hidden, use `skip_hidden False` to get get into those.\n",
      "*** all frames above hidden, use `skip_hidden False` to get get into those.\n",
      "*** all frames above hidden, use `skip_hidden False` to get get into those.\n",
      "*** NameError: name 'nn' is not defined\n",
      "we have appended your data in the list\n",
      "we have appended your data in the list\n",
      "we have appended your data in the list\n",
      "we have appended your data in the list\n",
      "we have appended your data in the list\n",
      "we have appended your data in the list\n",
      "we have appended your data in the list\n",
      "we have appended your data in the list\n"
     ]
    },
    {
     "data": {
      "text/plain": [
       "[0,\n",
       " 0,\n",
       " 0,\n",
       " 0,\n",
       " 0,\n",
       " 1,\n",
       " 4,\n",
       " 4,\n",
       " 4,\n",
       " 4,\n",
       " 2,\n",
       " 2,\n",
       " 2,\n",
       " 2,\n",
       " 2,\n",
       " 3,\n",
       " 3,\n",
       " 3,\n",
       " 3,\n",
       " 3,\n",
       " 4,\n",
       " 4,\n",
       " 4,\n",
       " 4,\n",
       " 4,\n",
       " 5,\n",
       " 5,\n",
       " 5,\n",
       " 5,\n",
       " 5,\n",
       " 6,\n",
       " 6,\n",
       " 6,\n",
       " 6,\n",
       " 6,\n",
       " 7,\n",
       " 7,\n",
       " 7,\n",
       " 7,\n",
       " 7,\n",
       " 8,\n",
       " 8,\n",
       " 8,\n",
       " 8,\n",
       " 8,\n",
       " 9,\n",
       " 9,\n",
       " 9,\n",
       " 9,\n",
       " 9]"
      ]
     },
     "execution_count": 10,
     "metadata": {},
     "output_type": "execute_result"
    },
    {
     "name": "stdout",
     "output_type": "stream",
     "text": [
      "--Return--\n",
      "None\n",
      "> \u001b[1;32mc:\\users\\user\\appdata\\local\\temp\\ipykernel_1580\\2073963524.py\u001b[0m(1)\u001b[0;36m<cell line: 1>\u001b[1;34m()\u001b[0m\n",
      "\n",
      "\u001b[1;31m    [... skipped 1 hidden frame]\u001b[0m\n",
      "\n",
      "> \u001b[1;32mc:\\users\\user\\appdata\\roaming\\python\\python310\\site-packages\\ipython\\core\\interactiveshell.py\u001b[0m(3372)\u001b[0;36mrun_code\u001b[1;34m()\u001b[0m\n",
      "\u001b[1;32m   3371 \u001b[1;33m                \u001b[1;31m# Reset our crash handler in place\u001b[0m\u001b[1;33m\u001b[0m\u001b[1;33m\u001b[0m\u001b[0m\n",
      "\u001b[0m\u001b[1;32m-> 3372 \u001b[1;33m                \u001b[0msys\u001b[0m\u001b[1;33m.\u001b[0m\u001b[0mexcepthook\u001b[0m \u001b[1;33m=\u001b[0m \u001b[0mold_excepthook\u001b[0m\u001b[1;33m\u001b[0m\u001b[1;33m\u001b[0m\u001b[0m\n",
      "\u001b[0m\u001b[1;32m   3373 \u001b[1;33m        \u001b[1;32mexcept\u001b[0m \u001b[0mSystemExit\u001b[0m \u001b[1;32mas\u001b[0m \u001b[0me\u001b[0m\u001b[1;33m:\u001b[0m\u001b[1;33m\u001b[0m\u001b[1;33m\u001b[0m\u001b[0m\n",
      "\u001b[0m\n",
      "\u001b[1;31m    [... skipped 1 hidden frame]\u001b[0m\n",
      "\n",
      "> \u001b[1;32mc:\\users\\user\\appdata\\roaming\\python\\python310\\site-packages\\ipython\\core\\interactiveshell.py\u001b[0m(3388)\u001b[0;36mrun_code\u001b[1;34m()\u001b[0m\n",
      "\u001b[1;32m   3387 \u001b[1;33m        \u001b[1;32melse\u001b[0m\u001b[1;33m:\u001b[0m\u001b[1;33m\u001b[0m\u001b[1;33m\u001b[0m\u001b[0m\n",
      "\u001b[0m\u001b[1;32m-> 3388 \u001b[1;33m            \u001b[0moutflag\u001b[0m \u001b[1;33m=\u001b[0m \u001b[1;32mFalse\u001b[0m\u001b[1;33m\u001b[0m\u001b[1;33m\u001b[0m\u001b[0m\n",
      "\u001b[0m\u001b[1;32m   3389 \u001b[1;33m        \u001b[1;32mreturn\u001b[0m \u001b[0moutflag\u001b[0m\u001b[1;33m\u001b[0m\u001b[1;33m\u001b[0m\u001b[0m\n",
      "\u001b[0m\n",
      "\u001b[1;31m    [... skipped 1 hidden frame]\u001b[0m\n",
      "\n",
      "> \u001b[1;32mc:\\users\\user\\appdata\\roaming\\python\\python310\\site-packages\\ipython\\core\\interactiveshell.py\u001b[0m(3389)\u001b[0;36mrun_code\u001b[1;34m()\u001b[0m\n",
      "\u001b[1;32m   3388 \u001b[1;33m            \u001b[0moutflag\u001b[0m \u001b[1;33m=\u001b[0m \u001b[1;32mFalse\u001b[0m\u001b[1;33m\u001b[0m\u001b[1;33m\u001b[0m\u001b[0m\n",
      "\u001b[0m\u001b[1;32m-> 3389 \u001b[1;33m        \u001b[1;32mreturn\u001b[0m \u001b[0moutflag\u001b[0m\u001b[1;33m\u001b[0m\u001b[1;33m\u001b[0m\u001b[0m\n",
      "\u001b[0m\u001b[1;32m   3390 \u001b[1;33m\u001b[1;33m\u001b[0m\u001b[0m\n",
      "\u001b[0m\n",
      "\u001b[1;31m    [... skipped 1 hidden frame]\u001b[0m\n",
      "\n",
      "StopIteration: <ExecutionResult object at 246ae52bca0, execution_count=10 error_before_exec=None error_in_exec=None info=<ExecutionInfo object at 246ae52b6a0, raw_cell=\"multi_testdebug()\" store_history=True silent=False shell_futures=True> result=[0, 0, 0, 0, 0, 1, 4, 4, 4, 4, 2, 2, 2, 2, 2, 3, 3, 3, 3, 3, 4, 4, 4, 4, 4, 5, 5, 5, 5, 5, 6, 6, 6, 6, 6, 7, 7, 7, 7, 7, 8, 8, 8, 8, 8, 9, 9, 9, 9, 9]>\n",
      "> \u001b[1;32mc:\\users\\user\\appdata\\roaming\\python\\python310\\site-packages\\ipython\\core\\async_helpers.py\u001b[0m(129)\u001b[0;36m_pseudo_sync_runner\u001b[1;34m()\u001b[0m\n",
      "\u001b[1;32m    128 \u001b[1;33m    \u001b[1;32mtry\u001b[0m\u001b[1;33m:\u001b[0m\u001b[1;33m\u001b[0m\u001b[1;33m\u001b[0m\u001b[0m\n",
      "\u001b[0m\u001b[1;32m--> 129 \u001b[1;33m        \u001b[0mcoro\u001b[0m\u001b[1;33m.\u001b[0m\u001b[0msend\u001b[0m\u001b[1;33m(\u001b[0m\u001b[1;32mNone\u001b[0m\u001b[1;33m)\u001b[0m\u001b[1;33m\u001b[0m\u001b[1;33m\u001b[0m\u001b[0m\n",
      "\u001b[0m\u001b[1;32m    130 \u001b[1;33m    \u001b[1;32mexcept\u001b[0m \u001b[0mStopIteration\u001b[0m \u001b[1;32mas\u001b[0m \u001b[0mexc\u001b[0m\u001b[1;33m:\u001b[0m\u001b[1;33m\u001b[0m\u001b[1;33m\u001b[0m\u001b[0m\n",
      "\u001b[0m\n",
      "> \u001b[1;32mc:\\users\\user\\appdata\\roaming\\python\\python310\\site-packages\\ipython\\core\\async_helpers.py\u001b[0m(130)\u001b[0;36m_pseudo_sync_runner\u001b[1;34m()\u001b[0m\n",
      "\u001b[1;32m    129 \u001b[1;33m        \u001b[0mcoro\u001b[0m\u001b[1;33m.\u001b[0m\u001b[0msend\u001b[0m\u001b[1;33m(\u001b[0m\u001b[1;32mNone\u001b[0m\u001b[1;33m)\u001b[0m\u001b[1;33m\u001b[0m\u001b[1;33m\u001b[0m\u001b[0m\n",
      "\u001b[0m\u001b[1;32m--> 130 \u001b[1;33m    \u001b[1;32mexcept\u001b[0m \u001b[0mStopIteration\u001b[0m \u001b[1;32mas\u001b[0m \u001b[0mexc\u001b[0m\u001b[1;33m:\u001b[0m\u001b[1;33m\u001b[0m\u001b[1;33m\u001b[0m\u001b[0m\n",
      "\u001b[0m\u001b[1;32m    131 \u001b[1;33m        \u001b[1;32mreturn\u001b[0m \u001b[0mexc\u001b[0m\u001b[1;33m.\u001b[0m\u001b[0mvalue\u001b[0m\u001b[1;33m\u001b[0m\u001b[1;33m\u001b[0m\u001b[0m\n",
      "\u001b[0m\n",
      "> \u001b[1;32mc:\\users\\user\\appdata\\roaming\\python\\python310\\site-packages\\ipython\\core\\async_helpers.py\u001b[0m(131)\u001b[0;36m_pseudo_sync_runner\u001b[1;34m()\u001b[0m\n",
      "\u001b[1;32m    130 \u001b[1;33m    \u001b[1;32mexcept\u001b[0m \u001b[0mStopIteration\u001b[0m \u001b[1;32mas\u001b[0m \u001b[0mexc\u001b[0m\u001b[1;33m:\u001b[0m\u001b[1;33m\u001b[0m\u001b[1;33m\u001b[0m\u001b[0m\n",
      "\u001b[0m\u001b[1;32m--> 131 \u001b[1;33m        \u001b[1;32mreturn\u001b[0m \u001b[0mexc\u001b[0m\u001b[1;33m.\u001b[0m\u001b[0mvalue\u001b[0m\u001b[1;33m\u001b[0m\u001b[1;33m\u001b[0m\u001b[0m\n",
      "\u001b[0m\u001b[1;32m    132 \u001b[1;33m    \u001b[1;32melse\u001b[0m\u001b[1;33m:\u001b[0m\u001b[1;33m\u001b[0m\u001b[1;33m\u001b[0m\u001b[0m\n",
      "\u001b[0m\n",
      "--Return--\n",
      "<ExecutionRes..., 9, 9, 9, 9]>\n",
      "> \u001b[1;32mc:\\users\\user\\appdata\\roaming\\python\\python310\\site-packages\\ipython\\core\\async_helpers.py\u001b[0m(131)\u001b[0;36m_pseudo_sync_runner\u001b[1;34m()\u001b[0m\n",
      "\u001b[1;32m    130 \u001b[1;33m    \u001b[1;32mexcept\u001b[0m \u001b[0mStopIteration\u001b[0m \u001b[1;32mas\u001b[0m \u001b[0mexc\u001b[0m\u001b[1;33m:\u001b[0m\u001b[1;33m\u001b[0m\u001b[1;33m\u001b[0m\u001b[0m\n",
      "\u001b[0m\u001b[1;32m--> 131 \u001b[1;33m        \u001b[1;32mreturn\u001b[0m \u001b[0mexc\u001b[0m\u001b[1;33m.\u001b[0m\u001b[0mvalue\u001b[0m\u001b[1;33m\u001b[0m\u001b[1;33m\u001b[0m\u001b[0m\n",
      "\u001b[0m\u001b[1;32m    132 \u001b[1;33m    \u001b[1;32melse\u001b[0m\u001b[1;33m:\u001b[0m\u001b[1;33m\u001b[0m\u001b[1;33m\u001b[0m\u001b[0m\n",
      "\u001b[0m\n",
      "--Return--\n",
      "<ExecutionRes..., 9, 9, 9, 9]>\n",
      "> \u001b[1;32mc:\\users\\user\\appdata\\roaming\\python\\python310\\site-packages\\ipython\\core\\interactiveshell.py\u001b[0m(2909)\u001b[0;36m_run_cell\u001b[1;34m()\u001b[0m\n",
      "\u001b[1;32m   2908 \u001b[1;33m        \u001b[1;32mtry\u001b[0m\u001b[1;33m:\u001b[0m\u001b[1;33m\u001b[0m\u001b[1;33m\u001b[0m\u001b[0m\n",
      "\u001b[0m\u001b[1;32m-> 2909 \u001b[1;33m            \u001b[1;32mreturn\u001b[0m \u001b[0mrunner\u001b[0m\u001b[1;33m(\u001b[0m\u001b[0mcoro\u001b[0m\u001b[1;33m)\u001b[0m\u001b[1;33m\u001b[0m\u001b[1;33m\u001b[0m\u001b[0m\n",
      "\u001b[0m\u001b[1;32m   2910 \u001b[1;33m        \u001b[1;32mexcept\u001b[0m \u001b[0mBaseException\u001b[0m \u001b[1;32mas\u001b[0m \u001b[0me\u001b[0m\u001b[1;33m:\u001b[0m\u001b[1;33m\u001b[0m\u001b[1;33m\u001b[0m\u001b[0m\n",
      "\u001b[0m\n",
      "> \u001b[1;32mc:\\users\\user\\appdata\\roaming\\python\\python310\\site-packages\\ipython\\core\\interactiveshell.py\u001b[0m(2866)\u001b[0;36mrun_cell\u001b[1;34m()\u001b[0m\n",
      "\u001b[1;32m   2865 \u001b[1;33m        \u001b[1;32mfinally\u001b[0m\u001b[1;33m:\u001b[0m\u001b[1;33m\u001b[0m\u001b[1;33m\u001b[0m\u001b[0m\n",
      "\u001b[0m\u001b[1;32m-> 2866 \u001b[1;33m            \u001b[0mself\u001b[0m\u001b[1;33m.\u001b[0m\u001b[0mevents\u001b[0m\u001b[1;33m.\u001b[0m\u001b[0mtrigger\u001b[0m\u001b[1;33m(\u001b[0m\u001b[1;34m'post_execute'\u001b[0m\u001b[1;33m)\u001b[0m\u001b[1;33m\u001b[0m\u001b[1;33m\u001b[0m\u001b[0m\n",
      "\u001b[0m\u001b[1;32m   2867 \u001b[1;33m            \u001b[1;32mif\u001b[0m \u001b[1;32mnot\u001b[0m \u001b[0msilent\u001b[0m\u001b[1;33m:\u001b[0m\u001b[1;33m\u001b[0m\u001b[1;33m\u001b[0m\u001b[0m\n",
      "\u001b[0m\n",
      "> \u001b[1;32mc:\\users\\user\\appdata\\roaming\\python\\python310\\site-packages\\ipython\\core\\interactiveshell.py\u001b[0m(2867)\u001b[0;36mrun_cell\u001b[1;34m()\u001b[0m\n",
      "\u001b[1;32m   2866 \u001b[1;33m            \u001b[0mself\u001b[0m\u001b[1;33m.\u001b[0m\u001b[0mevents\u001b[0m\u001b[1;33m.\u001b[0m\u001b[0mtrigger\u001b[0m\u001b[1;33m(\u001b[0m\u001b[1;34m'post_execute'\u001b[0m\u001b[1;33m)\u001b[0m\u001b[1;33m\u001b[0m\u001b[1;33m\u001b[0m\u001b[0m\n",
      "\u001b[0m\u001b[1;32m-> 2867 \u001b[1;33m            \u001b[1;32mif\u001b[0m \u001b[1;32mnot\u001b[0m \u001b[0msilent\u001b[0m\u001b[1;33m:\u001b[0m\u001b[1;33m\u001b[0m\u001b[1;33m\u001b[0m\u001b[0m\n",
      "\u001b[0m\u001b[1;32m   2868 \u001b[1;33m                \u001b[0mself\u001b[0m\u001b[1;33m.\u001b[0m\u001b[0mevents\u001b[0m\u001b[1;33m.\u001b[0m\u001b[0mtrigger\u001b[0m\u001b[1;33m(\u001b[0m\u001b[1;34m'post_run_cell'\u001b[0m\u001b[1;33m,\u001b[0m \u001b[0mresult\u001b[0m\u001b[1;33m)\u001b[0m\u001b[1;33m\u001b[0m\u001b[1;33m\u001b[0m\u001b[0m\n",
      "\u001b[0m\n",
      "> \u001b[1;32mc:\\users\\user\\appdata\\roaming\\python\\python310\\site-packages\\ipython\\core\\interactiveshell.py\u001b[0m(2868)\u001b[0;36mrun_cell\u001b[1;34m()\u001b[0m\n",
      "\u001b[1;32m   2867 \u001b[1;33m            \u001b[1;32mif\u001b[0m \u001b[1;32mnot\u001b[0m \u001b[0msilent\u001b[0m\u001b[1;33m:\u001b[0m\u001b[1;33m\u001b[0m\u001b[1;33m\u001b[0m\u001b[0m\n",
      "\u001b[0m\u001b[1;32m-> 2868 \u001b[1;33m                \u001b[0mself\u001b[0m\u001b[1;33m.\u001b[0m\u001b[0mevents\u001b[0m\u001b[1;33m.\u001b[0m\u001b[0mtrigger\u001b[0m\u001b[1;33m(\u001b[0m\u001b[1;34m'post_run_cell'\u001b[0m\u001b[1;33m,\u001b[0m \u001b[0mresult\u001b[0m\u001b[1;33m)\u001b[0m\u001b[1;33m\u001b[0m\u001b[1;33m\u001b[0m\u001b[0m\n",
      "\u001b[0m\u001b[1;32m   2869 \u001b[1;33m        \u001b[1;32mreturn\u001b[0m \u001b[0mresult\u001b[0m\u001b[1;33m\u001b[0m\u001b[1;33m\u001b[0m\u001b[0m\n",
      "\u001b[0m\n",
      "> \u001b[1;32mc:\\users\\user\\appdata\\roaming\\python\\python310\\site-packages\\ipython\\core\\interactiveshell.py\u001b[0m(2869)\u001b[0;36mrun_cell\u001b[1;34m()\u001b[0m\n",
      "\u001b[1;32m   2868 \u001b[1;33m                \u001b[0mself\u001b[0m\u001b[1;33m.\u001b[0m\u001b[0mevents\u001b[0m\u001b[1;33m.\u001b[0m\u001b[0mtrigger\u001b[0m\u001b[1;33m(\u001b[0m\u001b[1;34m'post_run_cell'\u001b[0m\u001b[1;33m,\u001b[0m \u001b[0mresult\u001b[0m\u001b[1;33m)\u001b[0m\u001b[1;33m\u001b[0m\u001b[1;33m\u001b[0m\u001b[0m\n",
      "\u001b[0m\u001b[1;32m-> 2869 \u001b[1;33m        \u001b[1;32mreturn\u001b[0m \u001b[0mresult\u001b[0m\u001b[1;33m\u001b[0m\u001b[1;33m\u001b[0m\u001b[0m\n",
      "\u001b[0m\u001b[1;32m   2870 \u001b[1;33m\u001b[1;33m\u001b[0m\u001b[0m\n",
      "\u001b[0m\n",
      "--Return--\n",
      "<ExecutionRes..., 9, 9, 9, 9]>\n",
      "> \u001b[1;32mc:\\users\\user\\appdata\\roaming\\python\\python310\\site-packages\\ipython\\core\\interactiveshell.py\u001b[0m(2869)\u001b[0;36mrun_cell\u001b[1;34m()\u001b[0m\n",
      "\u001b[1;32m   2868 \u001b[1;33m                \u001b[0mself\u001b[0m\u001b[1;33m.\u001b[0m\u001b[0mevents\u001b[0m\u001b[1;33m.\u001b[0m\u001b[0mtrigger\u001b[0m\u001b[1;33m(\u001b[0m\u001b[1;34m'post_run_cell'\u001b[0m\u001b[1;33m,\u001b[0m \u001b[0mresult\u001b[0m\u001b[1;33m)\u001b[0m\u001b[1;33m\u001b[0m\u001b[1;33m\u001b[0m\u001b[0m\n",
      "\u001b[0m\u001b[1;32m-> 2869 \u001b[1;33m        \u001b[1;32mreturn\u001b[0m \u001b[0mresult\u001b[0m\u001b[1;33m\u001b[0m\u001b[1;33m\u001b[0m\u001b[0m\n",
      "\u001b[0m\u001b[1;32m   2870 \u001b[1;33m\u001b[1;33m\u001b[0m\u001b[0m\n",
      "\u001b[0m\n",
      "--Return--\n",
      "<ExecutionRes..., 9, 9, 9, 9]>\n",
      "> \u001b[1;32mc:\\users\\user\\appdata\\roaming\\python\\python310\\site-packages\\ipykernel\\zmqshell.py\u001b[0m(532)\u001b[0;36mrun_cell\u001b[1;34m()\u001b[0m\n",
      "\u001b[1;32m    531 \u001b[1;33m        \u001b[0mself\u001b[0m\u001b[1;33m.\u001b[0m\u001b[0m_last_traceback\u001b[0m \u001b[1;33m=\u001b[0m \u001b[1;32mNone\u001b[0m\u001b[1;33m\u001b[0m\u001b[1;33m\u001b[0m\u001b[0m\n",
      "\u001b[0m\u001b[1;32m--> 532 \u001b[1;33m        \u001b[1;32mreturn\u001b[0m \u001b[0msuper\u001b[0m\u001b[1;33m(\u001b[0m\u001b[1;33m)\u001b[0m\u001b[1;33m.\u001b[0m\u001b[0mrun_cell\u001b[0m\u001b[1;33m(\u001b[0m\u001b[1;33m*\u001b[0m\u001b[0margs\u001b[0m\u001b[1;33m,\u001b[0m \u001b[1;33m**\u001b[0m\u001b[0mkwargs\u001b[0m\u001b[1;33m)\u001b[0m\u001b[1;33m\u001b[0m\u001b[1;33m\u001b[0m\u001b[0m\n",
      "\u001b[0m\u001b[1;32m    533 \u001b[1;33m\u001b[1;33m\u001b[0m\u001b[0m\n",
      "\u001b[0m\n",
      "> \u001b[1;32mc:\\users\\user\\appdata\\roaming\\python\\python310\\site-packages\\ipykernel\\ipkernel.py\u001b[0m(357)\u001b[0;36mdo_execute\u001b[1;34m()\u001b[0m\n",
      "\u001b[1;32m    356 \u001b[1;33m        \u001b[1;32mfinally\u001b[0m\u001b[1;33m:\u001b[0m\u001b[1;33m\u001b[0m\u001b[1;33m\u001b[0m\u001b[0m\n",
      "\u001b[0m\u001b[1;32m--> 357 \u001b[1;33m            \u001b[0mself\u001b[0m\u001b[1;33m.\u001b[0m\u001b[0m_restore_input\u001b[0m\u001b[1;33m(\u001b[0m\u001b[1;33m)\u001b[0m\u001b[1;33m\u001b[0m\u001b[1;33m\u001b[0m\u001b[0m\n",
      "\u001b[0m\u001b[1;32m    358 \u001b[1;33m\u001b[1;33m\u001b[0m\u001b[0m\n",
      "\u001b[0m\n",
      "*** NameError: name 'C' is not defined\n",
      "*** NameError: name 'C' is not defined\n",
      "*** NameError: name 'C' is not defined\n"
     ]
    }
   ],
   "source": [
    "multi_testdebug()"
   ]
  },
  {
   "cell_type": "code",
   "execution_count": 11,
   "id": "f1a814d8",
   "metadata": {},
   "outputs": [],
   "source": [
    "import os"
   ]
  },
  {
   "cell_type": "code",
   "execution_count": null,
   "id": "22e4b4ea",
   "metadata": {},
   "outputs": [],
   "source": []
  }
 ],
 "metadata": {
  "kernelspec": {
   "display_name": "Python 3 (ipykernel)",
   "language": "python",
   "name": "python3"
  },
  "language_info": {
   "codemirror_mode": {
    "name": "ipython",
    "version": 3
   },
   "file_extension": ".py",
   "mimetype": "text/x-python",
   "name": "python",
   "nbconvert_exporter": "python",
   "pygments_lexer": "ipython3",
   "version": "3.9.7"
  }
 },
 "nbformat": 4,
 "nbformat_minor": 5
}
